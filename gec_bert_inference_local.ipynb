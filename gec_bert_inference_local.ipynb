{
 "cells": [
  {
   "cell_type": "markdown",
   "id": "aUeyHgSAHLUm",
   "metadata": {
    "id": "aUeyHgSAHLUm"
   },
   "source": [
    "# GEC Bert - Inference"
   ]
  },
  {
   "cell_type": "markdown",
   "id": "4115546d-5199-4f12-a371-54270efc3c98",
   "metadata": {
    "id": "4115546d-5199-4f12-a371-54270efc3c98"
   },
   "source": [
    "## Imports and Setup"
   ]
  },
  {
   "cell_type": "code",
   "execution_count": 4,
   "id": "211578ae-1bc4-4522-a62b-84426de6ac91",
   "metadata": {
    "id": "211578ae-1bc4-4522-a62b-84426de6ac91"
   },
   "outputs": [],
   "source": [
    "%load_ext autoreload\n",
    "%autoreload 2"
   ]
  },
  {
   "cell_type": "code",
   "execution_count": 37,
   "id": "rJQbniARIP9D",
   "metadata": {
    "colab": {
     "base_uri": "https://localhost:8080/"
    },
    "executionInfo": {
     "elapsed": 9022,
     "status": "ok",
     "timestamp": 1699047617573,
     "user": {
      "displayName": "Ram S",
      "userId": "17279396566363655986"
     },
     "user_tz": 420
    },
    "id": "rJQbniARIP9D",
    "outputId": "301b8b0d-57b1-43f3-8e47-602b1b8c6a98"
   },
   "outputs": [],
   "source": [
    "# !pip install wandb"
   ]
  },
  {
   "cell_type": "code",
   "execution_count": 15,
   "id": "ce76704e-aa9a-4ab2-b839-27c5ba8c315a",
   "metadata": {
    "executionInfo": {
     "elapsed": 759,
     "status": "ok",
     "timestamp": 1699047625237,
     "user": {
      "displayName": "Ram S",
      "userId": "17279396566363655986"
     },
     "user_tz": 420
    },
    "id": "ce76704e-aa9a-4ab2-b839-27c5ba8c315a"
   },
   "outputs": [
    {
     "name": "stdout",
     "output_type": "stream",
     "text": [
      "1.12.1\n"
     ]
    }
   ],
   "source": [
    "import pandas as pd\n",
    "import pickle\n",
    "import os\n",
    "from utils import Config, Training_config\n",
    "import wandb\n",
    "import torch\n",
    "\n",
    "print(torch.__version__)\n",
    "main_args = Config()\n",
    "# !mkdir cfgs\n",
    "# !mkdir processed_data"
   ]
  },
  {
   "cell_type": "code",
   "execution_count": 39,
   "id": "daa90a92-4bd1-4056-8d2f-4e5f871fec2e",
   "metadata": {
    "colab": {
     "base_uri": "https://localhost:8080/"
    },
    "executionInfo": {
     "elapsed": 18499,
     "status": "ok",
     "timestamp": 1699047816868,
     "user": {
      "displayName": "Ram S",
      "userId": "17279396566363655986"
     },
     "user_tz": 420
    },
    "id": "daa90a92-4bd1-4056-8d2f-4e5f871fec2e",
    "outputId": "2fe03767-bf4f-4c33-cd05-bfe1dd5ff833"
   },
   "outputs": [],
   "source": [
    "# !pip install simpletransformers"
   ]
  },
  {
   "cell_type": "code",
   "execution_count": 6,
   "id": "87790974-dcbd-4445-b260-dd2e7d50eac7",
   "metadata": {
    "id": "87790974-dcbd-4445-b260-dd2e7d50eac7"
   },
   "outputs": [],
   "source": [
    "from simpletransformers.ner import NERModel"
   ]
  },
  {
   "cell_type": "code",
   "execution_count": 43,
   "id": "48f3d391-89be-41ba-9879-9e7d47953f17",
   "metadata": {},
   "outputs": [],
   "source": [
    "args = Training_config(main_args.ECC_TRAIN_CONFIG)\n",
    "labels = args.BIO_labels\n"
   ]
  },
  {
   "cell_type": "markdown",
   "id": "7a8b4094-fe11-4ffb-bc3c-a7217a6ef5d2",
   "metadata": {
    "tags": []
   },
   "source": [
    "## Inference with Local Model"
   ]
  },
  {
   "cell_type": "code",
   "execution_count": 44,
   "id": "ab6e2b48-f9d2-484c-b021-b8a99cab16c0",
   "metadata": {},
   "outputs": [
    {
     "name": "stderr",
     "output_type": "stream",
     "text": [
      "Special tokens have been added in the vocabulary, make sure the associated word embeddings are fine-tuned or trained.\n"
     ]
    }
   ],
   "source": [
    "reloaded = NERModel(model_type=args.model,model_name='outputs/gec_cows_l2h_small', labels=labels, use_cuda=False, ignore_mismatched_sizes=False)"
   ]
  },
  {
   "cell_type": "code",
   "execution_count": 46,
   "id": "c61aa2a3-0efc-43a7-a04c-fa2b561cb85f",
   "metadata": {},
   "outputs": [
    {
     "data": {
      "application/vnd.jupyter.widget-view+json": {
       "model_id": "5743d23087c34323ad26fa513f968469",
       "version_major": 2,
       "version_minor": 0
      },
      "text/plain": [
       "  0%|          | 0/1 [00:00<?, ?it/s]"
      ]
     },
     "metadata": {},
     "output_type": "display_data"
    },
    {
     "data": {
      "application/vnd.jupyter.widget-view+json": {
       "model_id": "9a931fa4d8424c508f6515757d7463e4",
       "version_major": 2,
       "version_minor": 0
      },
      "text/plain": [
       "Running Prediction:   0%|          | 0/1 [00:00<?, ?it/s]"
      ]
     },
     "metadata": {},
     "output_type": "display_data"
    },
    {
     "data": {
      "text/plain": [
       "([[{'Voy': 'O'},\n",
       "   {'a': 'O'},\n",
       "   {'ver': 'O'},\n",
       "   {'un': 'O'},\n",
       "   {'montón': 'O'},\n",
       "   {'de': 'O'},\n",
       "   {'gente.': 'O'}]],\n",
       " [[{'Voy': [[1.0854763,\n",
       "      -0.316451,\n",
       "      0.047038365,\n",
       "      -0.34436443,\n",
       "      0.2487065,\n",
       "      -0.68969965,\n",
       "      0.116881415,\n",
       "      -0.21325706,\n",
       "      -0.16128615,\n",
       "      -0.4065132,\n",
       "      2.1229296]]},\n",
       "   {'a': [[0.6385935,\n",
       "      -0.39191735,\n",
       "      -0.12966174,\n",
       "      -0.4718264,\n",
       "      0.030699767,\n",
       "      -1.0556124,\n",
       "      0.11838204,\n",
       "      -0.33300042,\n",
       "      -0.062101148,\n",
       "      -0.37952453,\n",
       "      1.8581315]]},\n",
       "   {'ver': [[1.3659866,\n",
       "      -0.06448756,\n",
       "      0.4369618,\n",
       "      -0.781453,\n",
       "      0.16887324,\n",
       "      -0.48044986,\n",
       "      0.55615455,\n",
       "      -0.24134833,\n",
       "      -0.47410864,\n",
       "      -0.859541,\n",
       "      2.0705187]]},\n",
       "   {'un': [[1.1931605,\n",
       "      -0.15088548,\n",
       "      0.2279812,\n",
       "      -0.61342067,\n",
       "      -0.05016152,\n",
       "      -0.78995043,\n",
       "      0.26713532,\n",
       "      -0.39121208,\n",
       "      -0.5605346,\n",
       "      -0.78983647,\n",
       "      2.524552]]},\n",
       "   {'montón': [[1.167207,\n",
       "      0.027674202,\n",
       "      0.17071803,\n",
       "      -0.8646033,\n",
       "      -0.14239854,\n",
       "      -0.40409073,\n",
       "      0.3619814,\n",
       "      -0.3274772,\n",
       "      -0.57370335,\n",
       "      -0.8949745,\n",
       "      2.7667458]]},\n",
       "   {'de': [[0.8539582,\n",
       "      -0.14278239,\n",
       "      0.1643189,\n",
       "      -0.5729018,\n",
       "      -0.10958047,\n",
       "      -0.5284649,\n",
       "      0.52865094,\n",
       "      -0.1671966,\n",
       "      -0.14756015,\n",
       "      -0.79739743,\n",
       "      2.5362728]]},\n",
       "   {'gente.': [[0.8099815,\n",
       "      -0.2927497,\n",
       "      0.43422997,\n",
       "      -0.87411934,\n",
       "      -0.17682652,\n",
       "      -0.42421058,\n",
       "      0.45158044,\n",
       "      -0.22980595,\n",
       "      -0.5729743,\n",
       "      -0.8103352,\n",
       "      2.3974779],\n",
       "     [0.49207965,\n",
       "      -0.1925996,\n",
       "      0.61224204,\n",
       "      -0.6962398,\n",
       "      0.10583666,\n",
       "      -0.30291352,\n",
       "      0.17830803,\n",
       "      0.18441944,\n",
       "      -0.2225902,\n",
       "      -0.63421535,\n",
       "      2.3743074]]}]])"
      ]
     },
     "execution_count": 46,
     "metadata": {},
     "output_type": "execute_result"
    }
   ],
   "source": [
    "reloaded.predict([\"Voy a ver un montón de gente.\"])"
   ]
  },
  {
   "cell_type": "markdown",
   "id": "c850cc7a-bc36-49ad-9b05-394ed4503cfb",
   "metadata": {},
   "source": [
    "## Pickle the Model"
   ]
  },
  {
   "cell_type": "code",
   "execution_count": 48,
   "id": "31b319d9-590a-4129-9469-1567c01c51b9",
   "metadata": {},
   "outputs": [],
   "source": [
    "with open('outputs/gec_cows_l2h_small.pkl', 'wb') as f:  # open a text file\n",
    "    pickle.dump(reloaded, f) # serialize the list"
   ]
  },
  {
   "cell_type": "markdown",
   "id": "b8a81178-1ad2-487f-bb83-868b5809c0a8",
   "metadata": {},
   "source": [
    "## Push model to HuggingFace"
   ]
  },
  {
   "cell_type": "code",
   "execution_count": 1,
   "id": "a9f48fa5-83b0-42f3-8a1a-a216374cad5e",
   "metadata": {},
   "outputs": [
    {
     "name": "stdout",
     "output_type": "stream",
     "text": [
      "Requirement already satisfied: huggingface_hub in /Users/rams/miniforge3/envs/env_arm_py39/lib/python3.9/site-packages (0.17.3)\n",
      "Requirement already satisfied: requests in /Users/rams/miniforge3/envs/env_arm_py39/lib/python3.9/site-packages (from huggingface_hub) (2.28.1)\n",
      "Requirement already satisfied: filelock in /Users/rams/miniforge3/envs/env_arm_py39/lib/python3.9/site-packages (from huggingface_hub) (3.12.4)\n",
      "Requirement already satisfied: typing-extensions>=3.7.4.3 in /Users/rams/miniforge3/envs/env_arm_py39/lib/python3.9/site-packages (from huggingface_hub) (4.8.0)\n",
      "Requirement already satisfied: pyyaml>=5.1 in /Users/rams/miniforge3/envs/env_arm_py39/lib/python3.9/site-packages (from huggingface_hub) (6.0)\n",
      "Requirement already satisfied: packaging>=20.9 in /Users/rams/miniforge3/envs/env_arm_py39/lib/python3.9/site-packages (from huggingface_hub) (21.3)\n",
      "Requirement already satisfied: fsspec in /Users/rams/miniforge3/envs/env_arm_py39/lib/python3.9/site-packages (from huggingface_hub) (2023.6.0)\n",
      "Requirement already satisfied: tqdm>=4.42.1 in /Users/rams/miniforge3/envs/env_arm_py39/lib/python3.9/site-packages (from huggingface_hub) (4.64.1)\n",
      "Requirement already satisfied: pyparsing!=3.0.5,>=2.0.2 in /Users/rams/miniforge3/envs/env_arm_py39/lib/python3.9/site-packages (from packaging>=20.9->huggingface_hub) (3.0.9)\n",
      "Requirement already satisfied: charset-normalizer<3,>=2 in /Users/rams/miniforge3/envs/env_arm_py39/lib/python3.9/site-packages (from requests->huggingface_hub) (2.1.1)\n",
      "Requirement already satisfied: idna<4,>=2.5 in /Users/rams/miniforge3/envs/env_arm_py39/lib/python3.9/site-packages (from requests->huggingface_hub) (3.4)\n",
      "Requirement already satisfied: certifi>=2017.4.17 in /Users/rams/miniforge3/envs/env_arm_py39/lib/python3.9/site-packages (from requests->huggingface_hub) (2023.7.22)\n",
      "Requirement already satisfied: urllib3<1.27,>=1.21.1 in /Users/rams/miniforge3/envs/env_arm_py39/lib/python3.9/site-packages (from requests->huggingface_hub) (1.26.12)\n"
     ]
    }
   ],
   "source": [
    "!pip install huggingface_hub"
   ]
  },
  {
   "cell_type": "code",
   "execution_count": 2,
   "id": "b8921d37-97ce-4a6b-92b8-66b80f0df6e7",
   "metadata": {},
   "outputs": [
    {
     "data": {
      "application/vnd.jupyter.widget-view+json": {
       "model_id": "18011e40f09e40b5bbd9986dc50e31b0",
       "version_major": 2,
       "version_minor": 0
      },
      "text/plain": [
       "VBox(children=(HTML(value='<center> <img\\nsrc=https://huggingface.co/front/assets/huggingface_logo-noborder.sv…"
      ]
     },
     "metadata": {},
     "output_type": "display_data"
    }
   ],
   "source": [
    "from huggingface_hub import notebook_login\n",
    "\n",
    "notebook_login()"
   ]
  },
  {
   "cell_type": "code",
   "execution_count": 32,
   "id": "0728d352-4334-4a3c-9dc2-b400b51b1fb6",
   "metadata": {},
   "outputs": [
    {
     "data": {
      "application/vnd.jupyter.widget-view+json": {
       "model_id": "293ed39a4b334114b9c72a2d4c26b546",
       "version_major": 2,
       "version_minor": 0
      },
      "text/plain": [
       "  0%|          | 0/1 [00:00<?, ?it/s]"
      ]
     },
     "metadata": {},
     "output_type": "display_data"
    },
    {
     "data": {
      "application/vnd.jupyter.widget-view+json": {
       "model_id": "1c7816bf24274f95822e1787ce69c9a9",
       "version_major": 2,
       "version_minor": 0
      },
      "text/plain": [
       "Running Prediction:   0%|          | 0/1 [00:00<?, ?it/s]"
      ]
     },
     "metadata": {},
     "output_type": "display_data"
    },
    {
     "name": "stdout",
     "output_type": "stream",
     "text": [
      "[[{'Hola': 'O'}, {'que': 'O'}, {'tal': 'O'}]]\n"
     ]
    },
    {
     "ename": "AttributeError",
     "evalue": "'NERModel' object has no attribute 'state_dict'",
     "output_type": "error",
     "traceback": [
      "\u001b[0;31m---------------------------------------------------------------------------\u001b[0m",
      "\u001b[0;31mAttributeError\u001b[0m                            Traceback (most recent call last)",
      "Cell \u001b[0;32mIn [32], line 4\u001b[0m\n\u001b[1;32m      2\u001b[0m reloaded \u001b[38;5;241m=\u001b[39m pickle\u001b[38;5;241m.\u001b[39mload(f) \u001b[38;5;66;03m# serialize the list\u001b[39;00m\n\u001b[1;32m      3\u001b[0m \u001b[38;5;28mprint\u001b[39m(reloaded\u001b[38;5;241m.\u001b[39mpredict([\u001b[38;5;124m'\u001b[39m\u001b[38;5;124mHola que tal\u001b[39m\u001b[38;5;124m'\u001b[39m])[\u001b[38;5;241m0\u001b[39m])\n\u001b[0;32m----> 4\u001b[0m torch\u001b[38;5;241m.\u001b[39msave(\u001b[43mreloaded\u001b[49m\u001b[38;5;241;43m.\u001b[39;49m\u001b[43mstate_dict\u001b[49m(), \u001b[38;5;124m\"\u001b[39m\u001b[38;5;124moutputs/tt.pth\u001b[39m\u001b[38;5;124m\"\u001b[39m)\n",
      "\u001b[0;31mAttributeError\u001b[0m: 'NERModel' object has no attribute 'state_dict'"
     ]
    }
   ],
   "source": [
    "with open('outputs/gec_cows_l2h_small.pkl', 'rb') as f:  # open a text file\n",
    "    reloaded = pickle.load(f) # serialize the list\n",
    "    print(reloaded.predict(['Hola que tal'])[0])\n",
    "    torch.save(reloaded.state_dict(), \"outputs/tt.pth\")\n",
    "    # reloaded.save_model('outputs/tt', model=reloaded)"
   ]
  },
  {
   "cell_type": "code",
   "execution_count": 31,
   "id": "a126cbfe-f452-4e7d-947a-fd36ccfb9d7c",
   "metadata": {},
   "outputs": [
    {
     "ename": "ValueError",
     "evalue": "Unsupported framework: . Supported framework(s) for Graviton instances: {'xgboost', 'sklearn', 'tensorflow', 'pytorch'}.",
     "output_type": "error",
     "traceback": [
      "\u001b[0;31m---------------------------------------------------------------------------\u001b[0m",
      "\u001b[0;31mValueError\u001b[0m                                Traceback (most recent call last)",
      "Cell \u001b[0;32mIn [31], line 5\u001b[0m\n\u001b[1;32m      3\u001b[0m \u001b[38;5;28;01mfrom\u001b[39;00m \u001b[38;5;21;01msagemaker\u001b[39;00m \u001b[38;5;28;01mimport\u001b[39;00m image_uris\n\u001b[1;32m      4\u001b[0m \u001b[38;5;28;01mfor\u001b[39;00m cur \u001b[38;5;129;01min\u001b[39;00m instance_types:\n\u001b[0;32m----> 5\u001b[0m     image \u001b[38;5;241m=\u001b[39m \u001b[43mimage_uris\u001b[49m\u001b[38;5;241;43m.\u001b[39;49m\u001b[43mretrieve\u001b[49m\u001b[43m(\u001b[49m\n\u001b[1;32m      6\u001b[0m \u001b[43m        \u001b[49m\u001b[43mframework\u001b[49m\u001b[38;5;241;43m=\u001b[39;49m\u001b[38;5;124;43m\"\u001b[39;49m\u001b[38;5;124;43m\"\u001b[39;49m\u001b[43m,\u001b[49m\n\u001b[1;32m      7\u001b[0m \u001b[43m        \u001b[49m\u001b[38;5;66;43;03m#framework='pytorch',\u001b[39;49;00m\n\u001b[1;32m      8\u001b[0m \u001b[43m        \u001b[49m\u001b[43mregion\u001b[49m\u001b[38;5;241;43m=\u001b[39;49m\u001b[38;5;124;43m'\u001b[39;49m\u001b[38;5;124;43mus-west-2\u001b[39;49m\u001b[38;5;124;43m'\u001b[39;49m\u001b[43m,\u001b[49m\n\u001b[1;32m      9\u001b[0m \u001b[43m        \u001b[49m\u001b[43mversion\u001b[49m\u001b[38;5;241;43m=\u001b[39;49m\u001b[38;5;124;43m'\u001b[39;49m\u001b[38;5;124;43m1.12\u001b[39;49m\u001b[38;5;124;43m'\u001b[39;49m\u001b[43m,\u001b[49m\n\u001b[1;32m     10\u001b[0m \u001b[43m        \u001b[49m\u001b[43mpy_version\u001b[49m\u001b[38;5;241;43m=\u001b[39;49m\u001b[38;5;124;43m'\u001b[39;49m\u001b[38;5;124;43mpy38\u001b[39;49m\u001b[38;5;124;43m'\u001b[39;49m\u001b[43m,\u001b[49m\n\u001b[1;32m     11\u001b[0m \u001b[43m        \u001b[49m\u001b[43mimage_scope\u001b[49m\u001b[38;5;241;43m=\u001b[39;49m\u001b[38;5;124;43m'\u001b[39;49m\u001b[38;5;124;43minference\u001b[39;49m\u001b[38;5;124;43m'\u001b[39;49m\u001b[43m,\u001b[49m\n\u001b[1;32m     12\u001b[0m \u001b[43m        \u001b[49m\u001b[43minstance_type\u001b[49m\u001b[38;5;241;43m=\u001b[39;49m\u001b[43mcur\u001b[49m\u001b[43m)\u001b[49m\n\u001b[1;32m     14\u001b[0m     \u001b[38;5;28mprint\u001b[39m(\u001b[38;5;124mf\u001b[39m\u001b[38;5;124m'\u001b[39m\u001b[38;5;132;01m{\u001b[39;00mcur\u001b[38;5;132;01m}\u001b[39;00m\u001b[38;5;124m:\u001b[39m\u001b[38;5;132;01m{\u001b[39;00mimage\u001b[38;5;132;01m}\u001b[39;00m\u001b[38;5;124m'\u001b[39m)\n",
      "File \u001b[0;32m~/miniforge3/envs/env_arm_py39/lib/python3.9/site-packages/sagemaker/workflow/utilities.py:417\u001b[0m, in \u001b[0;36moverride_pipeline_parameter_var.<locals>.wrapper\u001b[0;34m(*args, **kwargs)\u001b[0m\n\u001b[1;32m    415\u001b[0m         logger\u001b[38;5;241m.\u001b[39mwarning(warning_msg_template, arg_name, func_name, \u001b[38;5;28mtype\u001b[39m(value))\n\u001b[1;32m    416\u001b[0m         kwargs[arg_name] \u001b[38;5;241m=\u001b[39m value\u001b[38;5;241m.\u001b[39mdefault_value\n\u001b[0;32m--> 417\u001b[0m \u001b[38;5;28;01mreturn\u001b[39;00m \u001b[43mfunc\u001b[49m\u001b[43m(\u001b[49m\u001b[38;5;241;43m*\u001b[39;49m\u001b[43margs\u001b[49m\u001b[43m,\u001b[49m\u001b[43m \u001b[49m\u001b[38;5;241;43m*\u001b[39;49m\u001b[38;5;241;43m*\u001b[39;49m\u001b[43mkwargs\u001b[49m\u001b[43m)\u001b[49m\n",
      "File \u001b[0;32m~/miniforge3/envs/env_arm_py39/lib/python3.9/site-packages/sagemaker/image_uris.py:172\u001b[0m, in \u001b[0;36mretrieve\u001b[0;34m(framework, region, version, py_version, instance_type, accelerator_type, image_scope, container_version, distribution, base_framework_version, training_compiler_config, model_id, model_version, tolerate_vulnerable_model, tolerate_deprecated_model, sdk_version, inference_tool, serverless_inference_config, sagemaker_session)\u001b[0m\n\u001b[1;32m    170\u001b[0m             _framework \u001b[38;5;241m=\u001b[39m \u001b[38;5;124mf\u001b[39m\u001b[38;5;124m\"\u001b[39m\u001b[38;5;132;01m{\u001b[39;00mframework\u001b[38;5;132;01m}\u001b[39;00m\u001b[38;5;124m-\u001b[39m\u001b[38;5;132;01m{\u001b[39;00minference_tool\u001b[38;5;132;01m}\u001b[39;00m\u001b[38;5;124m\"\u001b[39m\n\u001b[1;32m    171\u001b[0m     final_image_scope \u001b[38;5;241m=\u001b[39m _get_final_image_scope(framework, instance_type, image_scope)\n\u001b[0;32m--> 172\u001b[0m     \u001b[43m_validate_for_suppported_frameworks_and_instance_type\u001b[49m\u001b[43m(\u001b[49m\u001b[43mframework\u001b[49m\u001b[43m,\u001b[49m\u001b[43m \u001b[49m\u001b[43minstance_type\u001b[49m\u001b[43m)\u001b[49m\n\u001b[1;32m    173\u001b[0m     config \u001b[38;5;241m=\u001b[39m _config_for_framework_and_scope(_framework, final_image_scope, accelerator_type)\n\u001b[1;32m    175\u001b[0m original_version \u001b[38;5;241m=\u001b[39m version\n",
      "File \u001b[0;32m~/miniforge3/envs/env_arm_py39/lib/python3.9/site-packages/sagemaker/image_uris.py:401\u001b[0m, in \u001b[0;36m_validate_for_suppported_frameworks_and_instance_type\u001b[0;34m(framework, instance_type)\u001b[0m\n\u001b[1;32m    395\u001b[0m \u001b[38;5;66;03m# Validate for Graviton allowed frameowrks\u001b[39;00m\n\u001b[1;32m    396\u001b[0m \u001b[38;5;28;01mif\u001b[39;00m (\n\u001b[1;32m    397\u001b[0m     instance_type \u001b[38;5;129;01mis\u001b[39;00m \u001b[38;5;129;01mnot\u001b[39;00m \u001b[38;5;28;01mNone\u001b[39;00m\n\u001b[1;32m    398\u001b[0m     \u001b[38;5;129;01mand\u001b[39;00m utils\u001b[38;5;241m.\u001b[39mget_instance_type_family(instance_type) \u001b[38;5;129;01min\u001b[39;00m GRAVITON_ALLOWED_TARGET_INSTANCE_FAMILY\n\u001b[1;32m    399\u001b[0m     \u001b[38;5;129;01mand\u001b[39;00m framework \u001b[38;5;129;01mnot\u001b[39;00m \u001b[38;5;129;01min\u001b[39;00m GRAVITON_ALLOWED_FRAMEWORKS\n\u001b[1;32m    400\u001b[0m ):\n\u001b[0;32m--> 401\u001b[0m     \u001b[43m_validate_framework\u001b[49m\u001b[43m(\u001b[49m\u001b[43mframework\u001b[49m\u001b[43m,\u001b[49m\u001b[43m \u001b[49m\u001b[43mGRAVITON_ALLOWED_FRAMEWORKS\u001b[49m\u001b[43m,\u001b[49m\u001b[43m \u001b[49m\u001b[38;5;124;43m\"\u001b[39;49m\u001b[38;5;124;43mframework\u001b[39;49m\u001b[38;5;124;43m\"\u001b[39;49m\u001b[43m,\u001b[49m\u001b[43m \u001b[49m\u001b[38;5;124;43m\"\u001b[39;49m\u001b[38;5;124;43mGraviton\u001b[39;49m\u001b[38;5;124;43m\"\u001b[39;49m\u001b[43m)\u001b[49m\n",
      "File \u001b[0;32m~/miniforge3/envs/env_arm_py39/lib/python3.9/site-packages/sagemaker/image_uris.py:595\u001b[0m, in \u001b[0;36m_validate_framework\u001b[0;34m(framework, allowed_frameworks, arg_name, hardware_name)\u001b[0m\n\u001b[1;32m    593\u001b[0m \u001b[38;5;124;03m\"\"\"Checks if the framework is in the allowed frameworks, and raises a ``ValueError`` if not.\"\"\"\u001b[39;00m\n\u001b[1;32m    594\u001b[0m \u001b[38;5;28;01mif\u001b[39;00m framework \u001b[38;5;129;01mnot\u001b[39;00m \u001b[38;5;129;01min\u001b[39;00m allowed_frameworks:\n\u001b[0;32m--> 595\u001b[0m     \u001b[38;5;28;01mraise\u001b[39;00m \u001b[38;5;167;01mValueError\u001b[39;00m(\n\u001b[1;32m    596\u001b[0m         \u001b[38;5;124mf\u001b[39m\u001b[38;5;124m\"\u001b[39m\u001b[38;5;124mUnsupported \u001b[39m\u001b[38;5;132;01m{\u001b[39;00marg_name\u001b[38;5;132;01m}\u001b[39;00m\u001b[38;5;124m: \u001b[39m\u001b[38;5;132;01m{\u001b[39;00mframework\u001b[38;5;132;01m}\u001b[39;00m\u001b[38;5;124m. \u001b[39m\u001b[38;5;124m\"\u001b[39m\n\u001b[1;32m    597\u001b[0m         \u001b[38;5;124mf\u001b[39m\u001b[38;5;124m\"\u001b[39m\u001b[38;5;124mSupported \u001b[39m\u001b[38;5;132;01m{\u001b[39;00marg_name\u001b[38;5;132;01m}\u001b[39;00m\u001b[38;5;124m(s) for \u001b[39m\u001b[38;5;132;01m{\u001b[39;00mhardware_name\u001b[38;5;132;01m}\u001b[39;00m\u001b[38;5;124m instances: \u001b[39m\u001b[38;5;132;01m{\u001b[39;00mallowed_frameworks\u001b[38;5;132;01m}\u001b[39;00m\u001b[38;5;124m.\u001b[39m\u001b[38;5;124m\"\u001b[39m\n\u001b[1;32m    598\u001b[0m     )\n",
      "\u001b[0;31mValueError\u001b[0m: Unsupported framework: . Supported framework(s) for Graviton instances: {'xgboost', 'sklearn', 'tensorflow', 'pytorch'}."
     ]
    }
   ],
   "source": [
    "instance_types = ['ml.r6g.xlarge', 'ml.c5.4xlarge', 'ml.c5.2xlarge', 'ml.c7g.2xlarge']\n",
    "\n",
    "from sagemaker import image_uris\n",
    "for cur in instance_types:\n",
    "    image = image_uris.retrieve(\n",
    "        framework=\"\",\n",
    "        #framework='pytorch',\n",
    "        region='us-west-2',\n",
    "        version='1.12',\n",
    "        py_version='py38',\n",
    "        image_scope='inference',\n",
    "        instance_type=cur)\n",
    "\n",
    "    print(f'{cur}:{image}')"
   ]
  },
  {
   "cell_type": "markdown",
   "id": "cF1BX2DEHWOl",
   "metadata": {
    "id": "cF1BX2DEHWOl",
    "jp-MarkdownHeadingCollapsed": true,
    "tags": []
   },
   "source": [
    "## Access model artefact from WandB"
   ]
  },
  {
   "cell_type": "code",
   "execution_count": 8,
   "id": "o0KL1ACWHU39",
   "metadata": {
    "colab": {
     "base_uri": "https://localhost:8080/",
     "height": 309,
     "referenced_widgets": [
      "b6e245944bfa47e3b0e0d2b00bb744ac",
      "0aa87e4b5bea4d6a89e8b86398ad80b1",
      "64b513878bc14ea8b39852eac20cffc6",
      "5d02029640d347cca43c02b67261749c",
      "a0b5e1ff335e48aab753b523cd9478d2",
      "a0c3ab048ee346068dbd17f7214953ea",
      "5625bc459b9c4770b9945fcb8ba2d94c",
      "32dcdd2aad094f59a913e08e40e799b0"
     ]
    },
    "executionInfo": {
     "elapsed": 8776,
     "status": "ok",
     "timestamp": 1699047729725,
     "user": {
      "displayName": "Ram S",
      "userId": "17279396566363655986"
     },
     "user_tz": 420
    },
    "id": "o0KL1ACWHU39",
    "outputId": "1cef3d5e-515d-4818-92a3-07626e37fc2f"
   },
   "outputs": [
    {
     "data": {
      "text/html": [
       "Finishing last run (ID:uvgwabbu) before initializing another..."
      ],
      "text/plain": [
       "<IPython.core.display.HTML object>"
      ]
     },
     "metadata": {},
     "output_type": "display_data"
    },
    {
     "data": {
      "text/html": [
       "Waiting for W&B process to finish... <strong style=\"color:green\">(success).</strong>"
      ],
      "text/plain": [
       "<IPython.core.display.HTML object>"
      ]
     },
     "metadata": {},
     "output_type": "display_data"
    },
    {
     "data": {
      "application/vnd.jupyter.widget-view+json": {
       "model_id": "b6e245944bfa47e3b0e0d2b00bb744ac",
       "version_major": 2,
       "version_minor": 0
      },
      "text/plain": [
       "VBox(children=(Label(value='0.002 MB of 0.010 MB uploaded (0.000 MB deduped)\\r'), FloatProgress(value=0.176587…"
      ]
     },
     "metadata": {},
     "output_type": "display_data"
    },
    {
     "data": {
      "text/html": [
       " View run <strong style=\"color:#cdcd00\">deft-galaxy-2</strong> at: <a href='https://wandb.ai/langbot/gec_ner_expect/runs/uvgwabbu' target=\"_blank\">https://wandb.ai/langbot/gec_ner_expect/runs/uvgwabbu</a><br/>Synced 4 W&B file(s), 0 media file(s), 0 artifact file(s) and 0 other file(s)"
      ],
      "text/plain": [
       "<IPython.core.display.HTML object>"
      ]
     },
     "metadata": {},
     "output_type": "display_data"
    },
    {
     "data": {
      "text/html": [
       "Find logs at: <code>./wandb/run-20231103_214039-uvgwabbu/logs</code>"
      ],
      "text/plain": [
       "<IPython.core.display.HTML object>"
      ]
     },
     "metadata": {},
     "output_type": "display_data"
    },
    {
     "data": {
      "text/html": [
       "Successfully finished last run (ID:uvgwabbu). Initializing new run:<br/>"
      ],
      "text/plain": [
       "<IPython.core.display.HTML object>"
      ]
     },
     "metadata": {},
     "output_type": "display_data"
    },
    {
     "data": {
      "text/html": [
       "Tracking run with wandb version 0.15.12"
      ],
      "text/plain": [
       "<IPython.core.display.HTML object>"
      ]
     },
     "metadata": {},
     "output_type": "display_data"
    },
    {
     "data": {
      "text/html": [
       "Run data is saved locally in <code>/content/wandb/run-20231103_214200-k0tp7oj1</code>"
      ],
      "text/plain": [
       "<IPython.core.display.HTML object>"
      ]
     },
     "metadata": {},
     "output_type": "display_data"
    },
    {
     "data": {
      "text/html": [
       "Syncing run <strong><a href='https://wandb.ai/langbot/gec_ner_expect/runs/k0tp7oj1' target=\"_blank\">super-cloud-3</a></strong> to <a href='https://wandb.ai/langbot/gec_ner_expect' target=\"_blank\">Weights & Biases</a> (<a href='https://wandb.me/run' target=\"_blank\">docs</a>)<br/>"
      ],
      "text/plain": [
       "<IPython.core.display.HTML object>"
      ]
     },
     "metadata": {},
     "output_type": "display_data"
    },
    {
     "data": {
      "text/html": [
       " View project at <a href='https://wandb.ai/langbot/gec_ner_expect' target=\"_blank\">https://wandb.ai/langbot/gec_ner_expect</a>"
      ],
      "text/plain": [
       "<IPython.core.display.HTML object>"
      ]
     },
     "metadata": {},
     "output_type": "display_data"
    },
    {
     "data": {
      "text/html": [
       " View run at <a href='https://wandb.ai/langbot/gec_ner_expect/runs/k0tp7oj1' target=\"_blank\">https://wandb.ai/langbot/gec_ner_expect/runs/k0tp7oj1</a>"
      ],
      "text/plain": [
       "<IPython.core.display.HTML object>"
      ]
     },
     "metadata": {},
     "output_type": "display_data"
    },
    {
     "name": "stderr",
     "output_type": "stream",
     "text": [
      "\u001b[34m\u001b[1mwandb\u001b[0m:   1 of 1 files downloaded.  \n"
     ]
    },
    {
     "name": "stdout",
     "output_type": "stream",
     "text": [
      "model:  ./artifacts/run-47ehfc2y-history:v0\n"
     ]
    }
   ],
   "source": [
    "run = wandb.init(project='gec_ner_expect', job_type=\"inference\")\n",
    "# use the latest version of the model\n",
    "\n",
    "artifact = run.use_artifact('langbot/gec_ner_expect/run-47ehfc2y-history:v0', type='wandb-history')\n",
    "artifact_dir = artifact.download()\n",
    "\n",
    "print(\"model: \", artifact_dir)\n"
   ]
  }
 ],
 "metadata": {
  "accelerator": "GPU",
  "colab": {
   "gpuType": "V100",
   "machine_shape": "hm",
   "provenance": []
  },
  "kernelspec": {
   "display_name": "Python 3 (ipykernel)",
   "language": "python",
   "name": "python3"
  },
  "language_info": {
   "codemirror_mode": {
    "name": "ipython",
    "version": 3
   },
   "file_extension": ".py",
   "mimetype": "text/x-python",
   "name": "python",
   "nbconvert_exporter": "python",
   "pygments_lexer": "ipython3",
   "version": "3.9.13"
  },
  "widgets": {
   "application/vnd.jupyter.widget-state+json": {
    "0aa87e4b5bea4d6a89e8b86398ad80b1": {
     "model_module": "@jupyter-widgets/controls",
     "model_module_version": "1.5.0",
     "model_name": "LabelModel",
     "state": {
      "_dom_classes": [],
      "_model_module": "@jupyter-widgets/controls",
      "_model_module_version": "1.5.0",
      "_model_name": "LabelModel",
      "_view_count": null,
      "_view_module": "@jupyter-widgets/controls",
      "_view_module_version": "1.5.0",
      "_view_name": "LabelView",
      "description": "",
      "description_tooltip": null,
      "layout": "IPY_MODEL_a0b5e1ff335e48aab753b523cd9478d2",
      "placeholder": "​",
      "style": "IPY_MODEL_a0c3ab048ee346068dbd17f7214953ea",
      "value": "0.002 MB of 0.010 MB uploaded (0.000 MB deduped)\r"
     }
    },
    "32dcdd2aad094f59a913e08e40e799b0": {
     "model_module": "@jupyter-widgets/controls",
     "model_module_version": "1.5.0",
     "model_name": "ProgressStyleModel",
     "state": {
      "_model_module": "@jupyter-widgets/controls",
      "_model_module_version": "1.5.0",
      "_model_name": "ProgressStyleModel",
      "_view_count": null,
      "_view_module": "@jupyter-widgets/base",
      "_view_module_version": "1.2.0",
      "_view_name": "StyleView",
      "bar_color": null,
      "description_width": ""
     }
    },
    "5625bc459b9c4770b9945fcb8ba2d94c": {
     "model_module": "@jupyter-widgets/base",
     "model_module_version": "1.2.0",
     "model_name": "LayoutModel",
     "state": {
      "_model_module": "@jupyter-widgets/base",
      "_model_module_version": "1.2.0",
      "_model_name": "LayoutModel",
      "_view_count": null,
      "_view_module": "@jupyter-widgets/base",
      "_view_module_version": "1.2.0",
      "_view_name": "LayoutView",
      "align_content": null,
      "align_items": null,
      "align_self": null,
      "border": null,
      "bottom": null,
      "display": null,
      "flex": null,
      "flex_flow": null,
      "grid_area": null,
      "grid_auto_columns": null,
      "grid_auto_flow": null,
      "grid_auto_rows": null,
      "grid_column": null,
      "grid_gap": null,
      "grid_row": null,
      "grid_template_areas": null,
      "grid_template_columns": null,
      "grid_template_rows": null,
      "height": null,
      "justify_content": null,
      "justify_items": null,
      "left": null,
      "margin": null,
      "max_height": null,
      "max_width": null,
      "min_height": null,
      "min_width": null,
      "object_fit": null,
      "object_position": null,
      "order": null,
      "overflow": null,
      "overflow_x": null,
      "overflow_y": null,
      "padding": null,
      "right": null,
      "top": null,
      "visibility": null,
      "width": null
     }
    },
    "5d02029640d347cca43c02b67261749c": {
     "model_module": "@jupyter-widgets/base",
     "model_module_version": "1.2.0",
     "model_name": "LayoutModel",
     "state": {
      "_model_module": "@jupyter-widgets/base",
      "_model_module_version": "1.2.0",
      "_model_name": "LayoutModel",
      "_view_count": null,
      "_view_module": "@jupyter-widgets/base",
      "_view_module_version": "1.2.0",
      "_view_name": "LayoutView",
      "align_content": null,
      "align_items": null,
      "align_self": null,
      "border": null,
      "bottom": null,
      "display": null,
      "flex": null,
      "flex_flow": null,
      "grid_area": null,
      "grid_auto_columns": null,
      "grid_auto_flow": null,
      "grid_auto_rows": null,
      "grid_column": null,
      "grid_gap": null,
      "grid_row": null,
      "grid_template_areas": null,
      "grid_template_columns": null,
      "grid_template_rows": null,
      "height": null,
      "justify_content": null,
      "justify_items": null,
      "left": null,
      "margin": null,
      "max_height": null,
      "max_width": null,
      "min_height": null,
      "min_width": null,
      "object_fit": null,
      "object_position": null,
      "order": null,
      "overflow": null,
      "overflow_x": null,
      "overflow_y": null,
      "padding": null,
      "right": null,
      "top": null,
      "visibility": null,
      "width": null
     }
    },
    "64b513878bc14ea8b39852eac20cffc6": {
     "model_module": "@jupyter-widgets/controls",
     "model_module_version": "1.5.0",
     "model_name": "FloatProgressModel",
     "state": {
      "_dom_classes": [],
      "_model_module": "@jupyter-widgets/controls",
      "_model_module_version": "1.5.0",
      "_model_name": "FloatProgressModel",
      "_view_count": null,
      "_view_module": "@jupyter-widgets/controls",
      "_view_module_version": "1.5.0",
      "_view_name": "ProgressView",
      "bar_style": "",
      "description": "",
      "description_tooltip": null,
      "layout": "IPY_MODEL_5625bc459b9c4770b9945fcb8ba2d94c",
      "max": 1,
      "min": 0,
      "orientation": "horizontal",
      "style": "IPY_MODEL_32dcdd2aad094f59a913e08e40e799b0",
      "value": 0.17658711442316763
     }
    },
    "a0b5e1ff335e48aab753b523cd9478d2": {
     "model_module": "@jupyter-widgets/base",
     "model_module_version": "1.2.0",
     "model_name": "LayoutModel",
     "state": {
      "_model_module": "@jupyter-widgets/base",
      "_model_module_version": "1.2.0",
      "_model_name": "LayoutModel",
      "_view_count": null,
      "_view_module": "@jupyter-widgets/base",
      "_view_module_version": "1.2.0",
      "_view_name": "LayoutView",
      "align_content": null,
      "align_items": null,
      "align_self": null,
      "border": null,
      "bottom": null,
      "display": null,
      "flex": null,
      "flex_flow": null,
      "grid_area": null,
      "grid_auto_columns": null,
      "grid_auto_flow": null,
      "grid_auto_rows": null,
      "grid_column": null,
      "grid_gap": null,
      "grid_row": null,
      "grid_template_areas": null,
      "grid_template_columns": null,
      "grid_template_rows": null,
      "height": null,
      "justify_content": null,
      "justify_items": null,
      "left": null,
      "margin": null,
      "max_height": null,
      "max_width": null,
      "min_height": null,
      "min_width": null,
      "object_fit": null,
      "object_position": null,
      "order": null,
      "overflow": null,
      "overflow_x": null,
      "overflow_y": null,
      "padding": null,
      "right": null,
      "top": null,
      "visibility": null,
      "width": null
     }
    },
    "a0c3ab048ee346068dbd17f7214953ea": {
     "model_module": "@jupyter-widgets/controls",
     "model_module_version": "1.5.0",
     "model_name": "DescriptionStyleModel",
     "state": {
      "_model_module": "@jupyter-widgets/controls",
      "_model_module_version": "1.5.0",
      "_model_name": "DescriptionStyleModel",
      "_view_count": null,
      "_view_module": "@jupyter-widgets/base",
      "_view_module_version": "1.2.0",
      "_view_name": "StyleView",
      "description_width": ""
     }
    },
    "b6e245944bfa47e3b0e0d2b00bb744ac": {
     "model_module": "@jupyter-widgets/controls",
     "model_module_version": "1.5.0",
     "model_name": "VBoxModel",
     "state": {
      "_dom_classes": [],
      "_model_module": "@jupyter-widgets/controls",
      "_model_module_version": "1.5.0",
      "_model_name": "VBoxModel",
      "_view_count": null,
      "_view_module": "@jupyter-widgets/controls",
      "_view_module_version": "1.5.0",
      "_view_name": "VBoxView",
      "box_style": "",
      "children": [
       "IPY_MODEL_0aa87e4b5bea4d6a89e8b86398ad80b1",
       "IPY_MODEL_64b513878bc14ea8b39852eac20cffc6"
      ],
      "layout": "IPY_MODEL_5d02029640d347cca43c02b67261749c"
     }
    }
   }
  }
 },
 "nbformat": 4,
 "nbformat_minor": 5
}
