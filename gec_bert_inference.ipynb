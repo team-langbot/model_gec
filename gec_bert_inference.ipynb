{
 "cells": [
  {
   "cell_type": "markdown",
   "id": "aUeyHgSAHLUm",
   "metadata": {
    "id": "aUeyHgSAHLUm"
   },
   "source": [
    "# GEC Bert - Inference"
   ]
  },
  {
   "cell_type": "markdown",
   "id": "4115546d-5199-4f12-a371-54270efc3c98",
   "metadata": {
    "id": "4115546d-5199-4f12-a371-54270efc3c98"
   },
   "source": [
    "## Imports and Setup"
   ]
  },
  {
   "cell_type": "code",
   "execution_count": 36,
   "id": "211578ae-1bc4-4522-a62b-84426de6ac91",
   "metadata": {
    "id": "211578ae-1bc4-4522-a62b-84426de6ac91"
   },
   "outputs": [
    {
     "name": "stdout",
     "output_type": "stream",
     "text": [
      "The autoreload extension is already loaded. To reload it, use:\n",
      "  %reload_ext autoreload\n"
     ]
    }
   ],
   "source": [
    "%load_ext autoreload\n",
    "%autoreload 2"
   ]
  },
  {
   "cell_type": "code",
   "execution_count": 37,
   "id": "rJQbniARIP9D",
   "metadata": {
    "colab": {
     "base_uri": "https://localhost:8080/"
    },
    "executionInfo": {
     "elapsed": 9022,
     "status": "ok",
     "timestamp": 1699047617573,
     "user": {
      "displayName": "Ram S",
      "userId": "17279396566363655986"
     },
     "user_tz": 420
    },
    "id": "rJQbniARIP9D",
    "outputId": "301b8b0d-57b1-43f3-8e47-602b1b8c6a98"
   },
   "outputs": [],
   "source": [
    "# !pip install wandb"
   ]
  },
  {
   "cell_type": "code",
   "execution_count": 38,
   "id": "ce76704e-aa9a-4ab2-b839-27c5ba8c315a",
   "metadata": {
    "executionInfo": {
     "elapsed": 759,
     "status": "ok",
     "timestamp": 1699047625237,
     "user": {
      "displayName": "Ram S",
      "userId": "17279396566363655986"
     },
     "user_tz": 420
    },
    "id": "ce76704e-aa9a-4ab2-b839-27c5ba8c315a"
   },
   "outputs": [],
   "source": [
    "import pandas as pd\n",
    "import pickle\n",
    "import os\n",
    "from utils import Config, Training_config\n",
    "import wandb\n",
    "\n",
    "main_args = Config()\n",
    "# !mkdir cfgs\n",
    "# !mkdir processed_data"
   ]
  },
  {
   "cell_type": "code",
   "execution_count": 39,
   "id": "daa90a92-4bd1-4056-8d2f-4e5f871fec2e",
   "metadata": {
    "colab": {
     "base_uri": "https://localhost:8080/"
    },
    "executionInfo": {
     "elapsed": 18499,
     "status": "ok",
     "timestamp": 1699047816868,
     "user": {
      "displayName": "Ram S",
      "userId": "17279396566363655986"
     },
     "user_tz": 420
    },
    "id": "daa90a92-4bd1-4056-8d2f-4e5f871fec2e",
    "outputId": "2fe03767-bf4f-4c33-cd05-bfe1dd5ff833"
   },
   "outputs": [],
   "source": [
    "# !pip install simpletransformers"
   ]
  },
  {
   "cell_type": "code",
   "execution_count": 40,
   "id": "87790974-dcbd-4445-b260-dd2e7d50eac7",
   "metadata": {
    "id": "87790974-dcbd-4445-b260-dd2e7d50eac7"
   },
   "outputs": [],
   "source": [
    "from simpletransformers.ner import NERModel"
   ]
  },
  {
   "cell_type": "code",
   "execution_count": 43,
   "id": "48f3d391-89be-41ba-9879-9e7d47953f17",
   "metadata": {},
   "outputs": [],
   "source": [
    "args = Training_config(main_args.ECC_TRAIN_CONFIG)\n",
    "labels = args.BIO_labels\n"
   ]
  },
  {
   "cell_type": "markdown",
   "id": "7a8b4094-fe11-4ffb-bc3c-a7217a6ef5d2",
   "metadata": {},
   "source": [
    "## Inference with Local Model"
   ]
  },
  {
   "cell_type": "code",
   "execution_count": 44,
   "id": "ab6e2b48-f9d2-484c-b021-b8a99cab16c0",
   "metadata": {},
   "outputs": [
    {
     "name": "stderr",
     "output_type": "stream",
     "text": [
      "Special tokens have been added in the vocabulary, make sure the associated word embeddings are fine-tuned or trained.\n"
     ]
    }
   ],
   "source": [
    "reloaded = NERModel(model_type=args.model,model_name='outputs/gec_cows_l2h_small', labels=labels, use_cuda=False, ignore_mismatched_sizes=False)"
   ]
  },
  {
   "cell_type": "code",
   "execution_count": 46,
   "id": "c61aa2a3-0efc-43a7-a04c-fa2b561cb85f",
   "metadata": {},
   "outputs": [
    {
     "data": {
      "application/vnd.jupyter.widget-view+json": {
       "model_id": "5743d23087c34323ad26fa513f968469",
       "version_major": 2,
       "version_minor": 0
      },
      "text/plain": [
       "  0%|          | 0/1 [00:00<?, ?it/s]"
      ]
     },
     "metadata": {},
     "output_type": "display_data"
    },
    {
     "data": {
      "application/vnd.jupyter.widget-view+json": {
       "model_id": "9a931fa4d8424c508f6515757d7463e4",
       "version_major": 2,
       "version_minor": 0
      },
      "text/plain": [
       "Running Prediction:   0%|          | 0/1 [00:00<?, ?it/s]"
      ]
     },
     "metadata": {},
     "output_type": "display_data"
    },
    {
     "data": {
      "text/plain": [
       "([[{'Voy': 'O'},\n",
       "   {'a': 'O'},\n",
       "   {'ver': 'O'},\n",
       "   {'un': 'O'},\n",
       "   {'montón': 'O'},\n",
       "   {'de': 'O'},\n",
       "   {'gente.': 'O'}]],\n",
       " [[{'Voy': [[1.0854763,\n",
       "      -0.316451,\n",
       "      0.047038365,\n",
       "      -0.34436443,\n",
       "      0.2487065,\n",
       "      -0.68969965,\n",
       "      0.116881415,\n",
       "      -0.21325706,\n",
       "      -0.16128615,\n",
       "      -0.4065132,\n",
       "      2.1229296]]},\n",
       "   {'a': [[0.6385935,\n",
       "      -0.39191735,\n",
       "      -0.12966174,\n",
       "      -0.4718264,\n",
       "      0.030699767,\n",
       "      -1.0556124,\n",
       "      0.11838204,\n",
       "      -0.33300042,\n",
       "      -0.062101148,\n",
       "      -0.37952453,\n",
       "      1.8581315]]},\n",
       "   {'ver': [[1.3659866,\n",
       "      -0.06448756,\n",
       "      0.4369618,\n",
       "      -0.781453,\n",
       "      0.16887324,\n",
       "      -0.48044986,\n",
       "      0.55615455,\n",
       "      -0.24134833,\n",
       "      -0.47410864,\n",
       "      -0.859541,\n",
       "      2.0705187]]},\n",
       "   {'un': [[1.1931605,\n",
       "      -0.15088548,\n",
       "      0.2279812,\n",
       "      -0.61342067,\n",
       "      -0.05016152,\n",
       "      -0.78995043,\n",
       "      0.26713532,\n",
       "      -0.39121208,\n",
       "      -0.5605346,\n",
       "      -0.78983647,\n",
       "      2.524552]]},\n",
       "   {'montón': [[1.167207,\n",
       "      0.027674202,\n",
       "      0.17071803,\n",
       "      -0.8646033,\n",
       "      -0.14239854,\n",
       "      -0.40409073,\n",
       "      0.3619814,\n",
       "      -0.3274772,\n",
       "      -0.57370335,\n",
       "      -0.8949745,\n",
       "      2.7667458]]},\n",
       "   {'de': [[0.8539582,\n",
       "      -0.14278239,\n",
       "      0.1643189,\n",
       "      -0.5729018,\n",
       "      -0.10958047,\n",
       "      -0.5284649,\n",
       "      0.52865094,\n",
       "      -0.1671966,\n",
       "      -0.14756015,\n",
       "      -0.79739743,\n",
       "      2.5362728]]},\n",
       "   {'gente.': [[0.8099815,\n",
       "      -0.2927497,\n",
       "      0.43422997,\n",
       "      -0.87411934,\n",
       "      -0.17682652,\n",
       "      -0.42421058,\n",
       "      0.45158044,\n",
       "      -0.22980595,\n",
       "      -0.5729743,\n",
       "      -0.8103352,\n",
       "      2.3974779],\n",
       "     [0.49207965,\n",
       "      -0.1925996,\n",
       "      0.61224204,\n",
       "      -0.6962398,\n",
       "      0.10583666,\n",
       "      -0.30291352,\n",
       "      0.17830803,\n",
       "      0.18441944,\n",
       "      -0.2225902,\n",
       "      -0.63421535,\n",
       "      2.3743074]]}]])"
      ]
     },
     "execution_count": 46,
     "metadata": {},
     "output_type": "execute_result"
    }
   ],
   "source": [
    "reloaded.predict([\"Voy a ver un montón de gente.\"])"
   ]
  },
  {
   "cell_type": "markdown",
   "id": "cF1BX2DEHWOl",
   "metadata": {
    "id": "cF1BX2DEHWOl",
    "jp-MarkdownHeadingCollapsed": true,
    "tags": []
   },
   "source": [
    "## Access model artefact from WandB"
   ]
  },
  {
   "cell_type": "code",
   "execution_count": 8,
   "id": "o0KL1ACWHU39",
   "metadata": {
    "colab": {
     "base_uri": "https://localhost:8080/",
     "height": 309,
     "referenced_widgets": [
      "b6e245944bfa47e3b0e0d2b00bb744ac",
      "0aa87e4b5bea4d6a89e8b86398ad80b1",
      "64b513878bc14ea8b39852eac20cffc6",
      "5d02029640d347cca43c02b67261749c",
      "a0b5e1ff335e48aab753b523cd9478d2",
      "a0c3ab048ee346068dbd17f7214953ea",
      "5625bc459b9c4770b9945fcb8ba2d94c",
      "32dcdd2aad094f59a913e08e40e799b0"
     ]
    },
    "executionInfo": {
     "elapsed": 8776,
     "status": "ok",
     "timestamp": 1699047729725,
     "user": {
      "displayName": "Ram S",
      "userId": "17279396566363655986"
     },
     "user_tz": 420
    },
    "id": "o0KL1ACWHU39",
    "outputId": "1cef3d5e-515d-4818-92a3-07626e37fc2f"
   },
   "outputs": [
    {
     "data": {
      "text/html": [
       "Finishing last run (ID:uvgwabbu) before initializing another..."
      ],
      "text/plain": [
       "<IPython.core.display.HTML object>"
      ]
     },
     "metadata": {},
     "output_type": "display_data"
    },
    {
     "data": {
      "text/html": [
       "Waiting for W&B process to finish... <strong style=\"color:green\">(success).</strong>"
      ],
      "text/plain": [
       "<IPython.core.display.HTML object>"
      ]
     },
     "metadata": {},
     "output_type": "display_data"
    },
    {
     "data": {
      "application/vnd.jupyter.widget-view+json": {
       "model_id": "b6e245944bfa47e3b0e0d2b00bb744ac",
       "version_major": 2,
       "version_minor": 0
      },
      "text/plain": [
       "VBox(children=(Label(value='0.002 MB of 0.010 MB uploaded (0.000 MB deduped)\\r'), FloatProgress(value=0.176587…"
      ]
     },
     "metadata": {},
     "output_type": "display_data"
    },
    {
     "data": {
      "text/html": [
       " View run <strong style=\"color:#cdcd00\">deft-galaxy-2</strong> at: <a href='https://wandb.ai/langbot/gec_ner_expect/runs/uvgwabbu' target=\"_blank\">https://wandb.ai/langbot/gec_ner_expect/runs/uvgwabbu</a><br/>Synced 4 W&B file(s), 0 media file(s), 0 artifact file(s) and 0 other file(s)"
      ],
      "text/plain": [
       "<IPython.core.display.HTML object>"
      ]
     },
     "metadata": {},
     "output_type": "display_data"
    },
    {
     "data": {
      "text/html": [
       "Find logs at: <code>./wandb/run-20231103_214039-uvgwabbu/logs</code>"
      ],
      "text/plain": [
       "<IPython.core.display.HTML object>"
      ]
     },
     "metadata": {},
     "output_type": "display_data"
    },
    {
     "data": {
      "text/html": [
       "Successfully finished last run (ID:uvgwabbu). Initializing new run:<br/>"
      ],
      "text/plain": [
       "<IPython.core.display.HTML object>"
      ]
     },
     "metadata": {},
     "output_type": "display_data"
    },
    {
     "data": {
      "text/html": [
       "Tracking run with wandb version 0.15.12"
      ],
      "text/plain": [
       "<IPython.core.display.HTML object>"
      ]
     },
     "metadata": {},
     "output_type": "display_data"
    },
    {
     "data": {
      "text/html": [
       "Run data is saved locally in <code>/content/wandb/run-20231103_214200-k0tp7oj1</code>"
      ],
      "text/plain": [
       "<IPython.core.display.HTML object>"
      ]
     },
     "metadata": {},
     "output_type": "display_data"
    },
    {
     "data": {
      "text/html": [
       "Syncing run <strong><a href='https://wandb.ai/langbot/gec_ner_expect/runs/k0tp7oj1' target=\"_blank\">super-cloud-3</a></strong> to <a href='https://wandb.ai/langbot/gec_ner_expect' target=\"_blank\">Weights & Biases</a> (<a href='https://wandb.me/run' target=\"_blank\">docs</a>)<br/>"
      ],
      "text/plain": [
       "<IPython.core.display.HTML object>"
      ]
     },
     "metadata": {},
     "output_type": "display_data"
    },
    {
     "data": {
      "text/html": [
       " View project at <a href='https://wandb.ai/langbot/gec_ner_expect' target=\"_blank\">https://wandb.ai/langbot/gec_ner_expect</a>"
      ],
      "text/plain": [
       "<IPython.core.display.HTML object>"
      ]
     },
     "metadata": {},
     "output_type": "display_data"
    },
    {
     "data": {
      "text/html": [
       " View run at <a href='https://wandb.ai/langbot/gec_ner_expect/runs/k0tp7oj1' target=\"_blank\">https://wandb.ai/langbot/gec_ner_expect/runs/k0tp7oj1</a>"
      ],
      "text/plain": [
       "<IPython.core.display.HTML object>"
      ]
     },
     "metadata": {},
     "output_type": "display_data"
    },
    {
     "name": "stderr",
     "output_type": "stream",
     "text": [
      "\u001b[34m\u001b[1mwandb\u001b[0m:   1 of 1 files downloaded.  \n"
     ]
    },
    {
     "name": "stdout",
     "output_type": "stream",
     "text": [
      "model:  ./artifacts/run-47ehfc2y-history:v0\n"
     ]
    }
   ],
   "source": [
    "run = wandb.init(project='gec_ner_expect', job_type=\"inference\")\n",
    "# use the latest version of the model\n",
    "\n",
    "artifact = run.use_artifact('langbot/gec_ner_expect/run-47ehfc2y-history:v0', type='wandb-history')\n",
    "artifact_dir = artifact.download()\n",
    "\n",
    "print(\"model: \", artifact_dir)\n"
   ]
  }
 ],
 "metadata": {
  "accelerator": "GPU",
  "colab": {
   "gpuType": "V100",
   "machine_shape": "hm",
   "provenance": []
  },
  "kernelspec": {
   "display_name": "Python 3 (ipykernel)",
   "language": "python",
   "name": "python3"
  },
  "language_info": {
   "codemirror_mode": {
    "name": "ipython",
    "version": 3
   },
   "file_extension": ".py",
   "mimetype": "text/x-python",
   "name": "python",
   "nbconvert_exporter": "python",
   "pygments_lexer": "ipython3",
   "version": "3.9.13"
  },
  "widgets": {
   "application/vnd.jupyter.widget-state+json": {
    "0aa87e4b5bea4d6a89e8b86398ad80b1": {
     "model_module": "@jupyter-widgets/controls",
     "model_module_version": "1.5.0",
     "model_name": "LabelModel",
     "state": {
      "_dom_classes": [],
      "_model_module": "@jupyter-widgets/controls",
      "_model_module_version": "1.5.0",
      "_model_name": "LabelModel",
      "_view_count": null,
      "_view_module": "@jupyter-widgets/controls",
      "_view_module_version": "1.5.0",
      "_view_name": "LabelView",
      "description": "",
      "description_tooltip": null,
      "layout": "IPY_MODEL_a0b5e1ff335e48aab753b523cd9478d2",
      "placeholder": "​",
      "style": "IPY_MODEL_a0c3ab048ee346068dbd17f7214953ea",
      "value": "0.002 MB of 0.010 MB uploaded (0.000 MB deduped)\r"
     }
    },
    "32dcdd2aad094f59a913e08e40e799b0": {
     "model_module": "@jupyter-widgets/controls",
     "model_module_version": "1.5.0",
     "model_name": "ProgressStyleModel",
     "state": {
      "_model_module": "@jupyter-widgets/controls",
      "_model_module_version": "1.5.0",
      "_model_name": "ProgressStyleModel",
      "_view_count": null,
      "_view_module": "@jupyter-widgets/base",
      "_view_module_version": "1.2.0",
      "_view_name": "StyleView",
      "bar_color": null,
      "description_width": ""
     }
    },
    "5625bc459b9c4770b9945fcb8ba2d94c": {
     "model_module": "@jupyter-widgets/base",
     "model_module_version": "1.2.0",
     "model_name": "LayoutModel",
     "state": {
      "_model_module": "@jupyter-widgets/base",
      "_model_module_version": "1.2.0",
      "_model_name": "LayoutModel",
      "_view_count": null,
      "_view_module": "@jupyter-widgets/base",
      "_view_module_version": "1.2.0",
      "_view_name": "LayoutView",
      "align_content": null,
      "align_items": null,
      "align_self": null,
      "border": null,
      "bottom": null,
      "display": null,
      "flex": null,
      "flex_flow": null,
      "grid_area": null,
      "grid_auto_columns": null,
      "grid_auto_flow": null,
      "grid_auto_rows": null,
      "grid_column": null,
      "grid_gap": null,
      "grid_row": null,
      "grid_template_areas": null,
      "grid_template_columns": null,
      "grid_template_rows": null,
      "height": null,
      "justify_content": null,
      "justify_items": null,
      "left": null,
      "margin": null,
      "max_height": null,
      "max_width": null,
      "min_height": null,
      "min_width": null,
      "object_fit": null,
      "object_position": null,
      "order": null,
      "overflow": null,
      "overflow_x": null,
      "overflow_y": null,
      "padding": null,
      "right": null,
      "top": null,
      "visibility": null,
      "width": null
     }
    },
    "5d02029640d347cca43c02b67261749c": {
     "model_module": "@jupyter-widgets/base",
     "model_module_version": "1.2.0",
     "model_name": "LayoutModel",
     "state": {
      "_model_module": "@jupyter-widgets/base",
      "_model_module_version": "1.2.0",
      "_model_name": "LayoutModel",
      "_view_count": null,
      "_view_module": "@jupyter-widgets/base",
      "_view_module_version": "1.2.0",
      "_view_name": "LayoutView",
      "align_content": null,
      "align_items": null,
      "align_self": null,
      "border": null,
      "bottom": null,
      "display": null,
      "flex": null,
      "flex_flow": null,
      "grid_area": null,
      "grid_auto_columns": null,
      "grid_auto_flow": null,
      "grid_auto_rows": null,
      "grid_column": null,
      "grid_gap": null,
      "grid_row": null,
      "grid_template_areas": null,
      "grid_template_columns": null,
      "grid_template_rows": null,
      "height": null,
      "justify_content": null,
      "justify_items": null,
      "left": null,
      "margin": null,
      "max_height": null,
      "max_width": null,
      "min_height": null,
      "min_width": null,
      "object_fit": null,
      "object_position": null,
      "order": null,
      "overflow": null,
      "overflow_x": null,
      "overflow_y": null,
      "padding": null,
      "right": null,
      "top": null,
      "visibility": null,
      "width": null
     }
    },
    "64b513878bc14ea8b39852eac20cffc6": {
     "model_module": "@jupyter-widgets/controls",
     "model_module_version": "1.5.0",
     "model_name": "FloatProgressModel",
     "state": {
      "_dom_classes": [],
      "_model_module": "@jupyter-widgets/controls",
      "_model_module_version": "1.5.0",
      "_model_name": "FloatProgressModel",
      "_view_count": null,
      "_view_module": "@jupyter-widgets/controls",
      "_view_module_version": "1.5.0",
      "_view_name": "ProgressView",
      "bar_style": "",
      "description": "",
      "description_tooltip": null,
      "layout": "IPY_MODEL_5625bc459b9c4770b9945fcb8ba2d94c",
      "max": 1,
      "min": 0,
      "orientation": "horizontal",
      "style": "IPY_MODEL_32dcdd2aad094f59a913e08e40e799b0",
      "value": 0.17658711442316763
     }
    },
    "a0b5e1ff335e48aab753b523cd9478d2": {
     "model_module": "@jupyter-widgets/base",
     "model_module_version": "1.2.0",
     "model_name": "LayoutModel",
     "state": {
      "_model_module": "@jupyter-widgets/base",
      "_model_module_version": "1.2.0",
      "_model_name": "LayoutModel",
      "_view_count": null,
      "_view_module": "@jupyter-widgets/base",
      "_view_module_version": "1.2.0",
      "_view_name": "LayoutView",
      "align_content": null,
      "align_items": null,
      "align_self": null,
      "border": null,
      "bottom": null,
      "display": null,
      "flex": null,
      "flex_flow": null,
      "grid_area": null,
      "grid_auto_columns": null,
      "grid_auto_flow": null,
      "grid_auto_rows": null,
      "grid_column": null,
      "grid_gap": null,
      "grid_row": null,
      "grid_template_areas": null,
      "grid_template_columns": null,
      "grid_template_rows": null,
      "height": null,
      "justify_content": null,
      "justify_items": null,
      "left": null,
      "margin": null,
      "max_height": null,
      "max_width": null,
      "min_height": null,
      "min_width": null,
      "object_fit": null,
      "object_position": null,
      "order": null,
      "overflow": null,
      "overflow_x": null,
      "overflow_y": null,
      "padding": null,
      "right": null,
      "top": null,
      "visibility": null,
      "width": null
     }
    },
    "a0c3ab048ee346068dbd17f7214953ea": {
     "model_module": "@jupyter-widgets/controls",
     "model_module_version": "1.5.0",
     "model_name": "DescriptionStyleModel",
     "state": {
      "_model_module": "@jupyter-widgets/controls",
      "_model_module_version": "1.5.0",
      "_model_name": "DescriptionStyleModel",
      "_view_count": null,
      "_view_module": "@jupyter-widgets/base",
      "_view_module_version": "1.2.0",
      "_view_name": "StyleView",
      "description_width": ""
     }
    },
    "b6e245944bfa47e3b0e0d2b00bb744ac": {
     "model_module": "@jupyter-widgets/controls",
     "model_module_version": "1.5.0",
     "model_name": "VBoxModel",
     "state": {
      "_dom_classes": [],
      "_model_module": "@jupyter-widgets/controls",
      "_model_module_version": "1.5.0",
      "_model_name": "VBoxModel",
      "_view_count": null,
      "_view_module": "@jupyter-widgets/controls",
      "_view_module_version": "1.5.0",
      "_view_name": "VBoxView",
      "box_style": "",
      "children": [
       "IPY_MODEL_0aa87e4b5bea4d6a89e8b86398ad80b1",
       "IPY_MODEL_64b513878bc14ea8b39852eac20cffc6"
      ],
      "layout": "IPY_MODEL_5d02029640d347cca43c02b67261749c"
     }
    }
   }
  }
 },
 "nbformat": 4,
 "nbformat_minor": 5
}
