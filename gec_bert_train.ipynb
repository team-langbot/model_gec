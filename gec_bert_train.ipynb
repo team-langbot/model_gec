{
 "cells": [
  {
   "cell_type": "markdown",
   "id": "4115546d-5199-4f12-a371-54270efc3c98",
   "metadata": {},
   "source": [
    "# Imports and Setup"
   ]
  },
  {
   "cell_type": "code",
   "execution_count": 23,
   "id": "211578ae-1bc4-4522-a62b-84426de6ac91",
   "metadata": {},
   "outputs": [
    {
     "name": "stdout",
     "output_type": "stream",
     "text": [
      "The autoreload extension is already loaded. To reload it, use:\n",
      "  %reload_ext autoreload\n"
     ]
    }
   ],
   "source": [
    "%load_ext autoreload\n",
    "%autoreload 2"
   ]
  },
  {
   "cell_type": "code",
   "execution_count": 24,
   "id": "ce76704e-aa9a-4ab2-b839-27c5ba8c315a",
   "metadata": {},
   "outputs": [],
   "source": [
    "import pandas as pd\n",
    "import pickle\n",
    "import os\n",
    "from utils import Config, Training_config\n",
    "\n",
    "main_args = Config()"
   ]
  },
  {
   "cell_type": "code",
   "execution_count": 3,
   "id": "daa90a92-4bd1-4056-8d2f-4e5f871fec2e",
   "metadata": {},
   "outputs": [
    {
     "name": "stdout",
     "output_type": "stream",
     "text": [
      "Requirement already satisfied: simpletransformers in /Users/rams/miniforge3/envs/env_arm_py39/lib/python3.9/site-packages (0.64.3)\n",
      "Requirement already satisfied: wandb>=0.10.32 in /Users/rams/miniforge3/envs/env_arm_py39/lib/python3.9/site-packages (from simpletransformers) (0.15.12)\n",
      "Requirement already satisfied: tensorboard in /Users/rams/miniforge3/envs/env_arm_py39/lib/python3.9/site-packages (from simpletransformers) (2.15.0)\n",
      "Requirement already satisfied: transformers>=4.31.0 in /Users/rams/miniforge3/envs/env_arm_py39/lib/python3.9/site-packages (from simpletransformers) (4.34.1)\n",
      "Requirement already satisfied: scikit-learn in /Users/rams/miniforge3/envs/env_arm_py39/lib/python3.9/site-packages (from simpletransformers) (1.1.2)\n",
      "Requirement already satisfied: tqdm>=4.47.0 in /Users/rams/miniforge3/envs/env_arm_py39/lib/python3.9/site-packages (from simpletransformers) (4.64.1)\n",
      "Requirement already satisfied: pandas in /Users/rams/miniforge3/envs/env_arm_py39/lib/python3.9/site-packages (from simpletransformers) (1.4.2)\n",
      "Requirement already satisfied: tokenizers in /Users/rams/miniforge3/envs/env_arm_py39/lib/python3.9/site-packages (from simpletransformers) (0.14.1)\n",
      "Requirement already satisfied: streamlit in /Users/rams/miniforge3/envs/env_arm_py39/lib/python3.9/site-packages (from simpletransformers) (1.27.2)\n",
      "Requirement already satisfied: regex in /Users/rams/miniforge3/envs/env_arm_py39/lib/python3.9/site-packages (from simpletransformers) (2023.10.3)\n",
      "Requirement already satisfied: seqeval in /Users/rams/miniforge3/envs/env_arm_py39/lib/python3.9/site-packages (from simpletransformers) (1.2.2)\n",
      "Requirement already satisfied: numpy in /Users/rams/miniforge3/envs/env_arm_py39/lib/python3.9/site-packages (from simpletransformers) (1.23.2)\n",
      "Requirement already satisfied: datasets in /Users/rams/miniforge3/envs/env_arm_py39/lib/python3.9/site-packages (from simpletransformers) (2.14.5)\n",
      "Requirement already satisfied: requests in /Users/rams/miniforge3/envs/env_arm_py39/lib/python3.9/site-packages (from simpletransformers) (2.28.1)\n",
      "Requirement already satisfied: scipy in /Users/rams/miniforge3/envs/env_arm_py39/lib/python3.9/site-packages (from simpletransformers) (1.9.1)\n",
      "Requirement already satisfied: sentencepiece in /Users/rams/miniforge3/envs/env_arm_py39/lib/python3.9/site-packages (from simpletransformers) (0.1.99)\n",
      "Requirement already satisfied: pyyaml>=5.1 in /Users/rams/miniforge3/envs/env_arm_py39/lib/python3.9/site-packages (from transformers>=4.31.0->simpletransformers) (6.0)\n",
      "Requirement already satisfied: huggingface-hub<1.0,>=0.16.4 in /Users/rams/miniforge3/envs/env_arm_py39/lib/python3.9/site-packages (from transformers>=4.31.0->simpletransformers) (0.17.3)\n",
      "Requirement already satisfied: safetensors>=0.3.1 in /Users/rams/miniforge3/envs/env_arm_py39/lib/python3.9/site-packages (from transformers>=4.31.0->simpletransformers) (0.4.0)\n",
      "Requirement already satisfied: filelock in /Users/rams/miniforge3/envs/env_arm_py39/lib/python3.9/site-packages (from transformers>=4.31.0->simpletransformers) (3.12.4)\n",
      "Requirement already satisfied: packaging>=20.0 in /Users/rams/miniforge3/envs/env_arm_py39/lib/python3.9/site-packages (from transformers>=4.31.0->simpletransformers) (21.3)\n",
      "Requirement already satisfied: Click!=8.0.0,>=7.1 in /Users/rams/miniforge3/envs/env_arm_py39/lib/python3.9/site-packages (from wandb>=0.10.32->simpletransformers) (8.1.3)\n",
      "Requirement already satisfied: psutil>=5.0.0 in /Users/rams/miniforge3/envs/env_arm_py39/lib/python3.9/site-packages (from wandb>=0.10.32->simpletransformers) (5.9.2)\n",
      "Requirement already satisfied: pathtools in /Users/rams/miniforge3/envs/env_arm_py39/lib/python3.9/site-packages (from wandb>=0.10.32->simpletransformers) (0.1.2)\n",
      "Requirement already satisfied: setuptools in /Users/rams/miniforge3/envs/env_arm_py39/lib/python3.9/site-packages (from wandb>=0.10.32->simpletransformers) (65.3.0)\n",
      "Requirement already satisfied: appdirs>=1.4.3 in /Users/rams/miniforge3/envs/env_arm_py39/lib/python3.9/site-packages (from wandb>=0.10.32->simpletransformers) (1.4.4)\n",
      "Requirement already satisfied: setproctitle in /Users/rams/miniforge3/envs/env_arm_py39/lib/python3.9/site-packages (from wandb>=0.10.32->simpletransformers) (1.3.3)\n",
      "Requirement already satisfied: typing-extensions in /Users/rams/miniforge3/envs/env_arm_py39/lib/python3.9/site-packages (from wandb>=0.10.32->simpletransformers) (4.8.0)\n",
      "Requirement already satisfied: docker-pycreds>=0.4.0 in /Users/rams/miniforge3/envs/env_arm_py39/lib/python3.9/site-packages (from wandb>=0.10.32->simpletransformers) (0.4.0)\n",
      "Requirement already satisfied: sentry-sdk>=1.0.0 in /Users/rams/miniforge3/envs/env_arm_py39/lib/python3.9/site-packages (from wandb>=0.10.32->simpletransformers) (1.32.0)\n",
      "Requirement already satisfied: GitPython!=3.1.29,>=1.0.0 in /Users/rams/miniforge3/envs/env_arm_py39/lib/python3.9/site-packages (from wandb>=0.10.32->simpletransformers) (3.1.37)\n",
      "Requirement already satisfied: protobuf!=4.21.0,<5,>=3.19.0 in /Users/rams/miniforge3/envs/env_arm_py39/lib/python3.9/site-packages (from wandb>=0.10.32->simpletransformers) (4.23.4)\n",
      "Requirement already satisfied: urllib3<1.27,>=1.21.1 in /Users/rams/miniforge3/envs/env_arm_py39/lib/python3.9/site-packages (from requests->simpletransformers) (1.26.12)\n",
      "Requirement already satisfied: charset-normalizer<3,>=2 in /Users/rams/miniforge3/envs/env_arm_py39/lib/python3.9/site-packages (from requests->simpletransformers) (2.1.1)\n",
      "Requirement already satisfied: certifi>=2017.4.17 in /Users/rams/miniforge3/envs/env_arm_py39/lib/python3.9/site-packages (from requests->simpletransformers) (2023.7.22)\n",
      "Requirement already satisfied: idna<4,>=2.5 in /Users/rams/miniforge3/envs/env_arm_py39/lib/python3.9/site-packages (from requests->simpletransformers) (3.4)\n",
      "Requirement already satisfied: dill<0.3.8,>=0.3.0 in /Users/rams/miniforge3/envs/env_arm_py39/lib/python3.9/site-packages (from datasets->simpletransformers) (0.3.7)\n",
      "Requirement already satisfied: fsspec[http]<2023.9.0,>=2023.1.0 in /Users/rams/miniforge3/envs/env_arm_py39/lib/python3.9/site-packages (from datasets->simpletransformers) (2023.6.0)\n",
      "Requirement already satisfied: xxhash in /Users/rams/miniforge3/envs/env_arm_py39/lib/python3.9/site-packages (from datasets->simpletransformers) (3.4.1)\n",
      "Requirement already satisfied: pyarrow>=8.0.0 in /Users/rams/miniforge3/envs/env_arm_py39/lib/python3.9/site-packages (from datasets->simpletransformers) (13.0.0)\n",
      "Requirement already satisfied: aiohttp in /Users/rams/miniforge3/envs/env_arm_py39/lib/python3.9/site-packages (from datasets->simpletransformers) (3.8.3)\n",
      "Requirement already satisfied: multiprocess in /Users/rams/miniforge3/envs/env_arm_py39/lib/python3.9/site-packages (from datasets->simpletransformers) (0.70.15)\n",
      "Requirement already satisfied: python-dateutil>=2.8.1 in /Users/rams/miniforge3/envs/env_arm_py39/lib/python3.9/site-packages (from pandas->simpletransformers) (2.8.2)\n",
      "Requirement already satisfied: pytz>=2020.1 in /Users/rams/miniforge3/envs/env_arm_py39/lib/python3.9/site-packages (from pandas->simpletransformers) (2022.1)\n",
      "Requirement already satisfied: joblib>=1.0.0 in /Users/rams/miniforge3/envs/env_arm_py39/lib/python3.9/site-packages (from scikit-learn->simpletransformers) (1.2.0)\n",
      "Requirement already satisfied: threadpoolctl>=2.0.0 in /Users/rams/miniforge3/envs/env_arm_py39/lib/python3.9/site-packages (from scikit-learn->simpletransformers) (3.1.0)\n",
      "Requirement already satisfied: altair<6,>=4.0 in /Users/rams/miniforge3/envs/env_arm_py39/lib/python3.9/site-packages (from streamlit->simpletransformers) (5.1.2)\n",
      "Requirement already satisfied: tenacity<9,>=8.1.0 in /Users/rams/miniforge3/envs/env_arm_py39/lib/python3.9/site-packages (from streamlit->simpletransformers) (8.2.3)\n",
      "Requirement already satisfied: tornado<7,>=6.0.3 in /Users/rams/miniforge3/envs/env_arm_py39/lib/python3.9/site-packages (from streamlit->simpletransformers) (6.2)\n",
      "Requirement already satisfied: pillow<11,>=7.1.0 in /Users/rams/miniforge3/envs/env_arm_py39/lib/python3.9/site-packages (from streamlit->simpletransformers) (9.2.0)\n",
      "Requirement already satisfied: blinker<2,>=1.0.0 in /Users/rams/miniforge3/envs/env_arm_py39/lib/python3.9/site-packages (from streamlit->simpletransformers) (1.6.2)\n",
      "Requirement already satisfied: validators<1,>=0.2 in /Users/rams/miniforge3/envs/env_arm_py39/lib/python3.9/site-packages (from streamlit->simpletransformers) (0.22.0)\n",
      "Requirement already satisfied: importlib-metadata<7,>=1.4 in /Users/rams/miniforge3/envs/env_arm_py39/lib/python3.9/site-packages (from streamlit->simpletransformers) (4.12.0)\n",
      "Requirement already satisfied: rich<14,>=10.14.0 in /Users/rams/miniforge3/envs/env_arm_py39/lib/python3.9/site-packages (from streamlit->simpletransformers) (13.6.0)\n",
      "Requirement already satisfied: toml<2,>=0.10.1 in /Users/rams/miniforge3/envs/env_arm_py39/lib/python3.9/site-packages (from streamlit->simpletransformers) (0.10.2)\n",
      "Requirement already satisfied: cachetools<6,>=4.0 in /Users/rams/miniforge3/envs/env_arm_py39/lib/python3.9/site-packages (from streamlit->simpletransformers) (4.2.4)\n",
      "Requirement already satisfied: pydeck<1,>=0.8.0b4 in /Users/rams/miniforge3/envs/env_arm_py39/lib/python3.9/site-packages (from streamlit->simpletransformers) (0.8.1b0)\n",
      "Requirement already satisfied: tzlocal<6,>=1.1 in /Users/rams/miniforge3/envs/env_arm_py39/lib/python3.9/site-packages (from streamlit->simpletransformers) (5.2)\n",
      "Requirement already satisfied: google-auth-oauthlib<2,>=0.5 in /Users/rams/miniforge3/envs/env_arm_py39/lib/python3.9/site-packages (from tensorboard->simpletransformers) (1.1.0)\n",
      "Requirement already satisfied: tensorboard-data-server<0.8.0,>=0.7.0 in /Users/rams/miniforge3/envs/env_arm_py39/lib/python3.9/site-packages (from tensorboard->simpletransformers) (0.7.1)\n",
      "Requirement already satisfied: six>1.9 in /Users/rams/miniforge3/envs/env_arm_py39/lib/python3.9/site-packages (from tensorboard->simpletransformers) (1.16.0)\n",
      "Requirement already satisfied: google-auth<3,>=1.6.3 in /Users/rams/miniforge3/envs/env_arm_py39/lib/python3.9/site-packages (from tensorboard->simpletransformers) (2.23.3)\n",
      "Requirement already satisfied: markdown>=2.6.8 in /Users/rams/miniforge3/envs/env_arm_py39/lib/python3.9/site-packages (from tensorboard->simpletransformers) (3.4.1)\n",
      "Requirement already satisfied: grpcio>=1.48.2 in /Users/rams/miniforge3/envs/env_arm_py39/lib/python3.9/site-packages (from tensorboard->simpletransformers) (1.59.0)\n",
      "Requirement already satisfied: werkzeug>=1.0.1 in /Users/rams/miniforge3/envs/env_arm_py39/lib/python3.9/site-packages (from tensorboard->simpletransformers) (2.3.6)\n",
      "Requirement already satisfied: absl-py>=0.4 in /Users/rams/miniforge3/envs/env_arm_py39/lib/python3.9/site-packages (from tensorboard->simpletransformers) (1.2.0)\n",
      "Requirement already satisfied: jinja2 in /Users/rams/miniforge3/envs/env_arm_py39/lib/python3.9/site-packages (from altair<6,>=4.0->streamlit->simpletransformers) (3.1.2)\n",
      "Requirement already satisfied: toolz in /Users/rams/miniforge3/envs/env_arm_py39/lib/python3.9/site-packages (from altair<6,>=4.0->streamlit->simpletransformers) (0.12.0)\n",
      "Requirement already satisfied: jsonschema>=3.0 in /Users/rams/miniforge3/envs/env_arm_py39/lib/python3.9/site-packages (from altair<6,>=4.0->streamlit->simpletransformers) (4.17.3)\n",
      "Requirement already satisfied: async-timeout<5.0,>=4.0.0a3 in /Users/rams/miniforge3/envs/env_arm_py39/lib/python3.9/site-packages (from aiohttp->datasets->simpletransformers) (4.0.2)\n",
      "Requirement already satisfied: frozenlist>=1.1.1 in /Users/rams/miniforge3/envs/env_arm_py39/lib/python3.9/site-packages (from aiohttp->datasets->simpletransformers) (1.3.1)\n",
      "Requirement already satisfied: yarl<2.0,>=1.0 in /Users/rams/miniforge3/envs/env_arm_py39/lib/python3.9/site-packages (from aiohttp->datasets->simpletransformers) (1.7.2)\n",
      "Requirement already satisfied: attrs>=17.3.0 in /Users/rams/miniforge3/envs/env_arm_py39/lib/python3.9/site-packages (from aiohttp->datasets->simpletransformers) (22.1.0)\n",
      "Requirement already satisfied: multidict<7.0,>=4.5 in /Users/rams/miniforge3/envs/env_arm_py39/lib/python3.9/site-packages (from aiohttp->datasets->simpletransformers) (6.0.2)\n",
      "Requirement already satisfied: aiosignal>=1.1.2 in /Users/rams/miniforge3/envs/env_arm_py39/lib/python3.9/site-packages (from aiohttp->datasets->simpletransformers) (1.2.0)\n",
      "Requirement already satisfied: gitdb<5,>=4.0.1 in /Users/rams/miniforge3/envs/env_arm_py39/lib/python3.9/site-packages (from GitPython!=3.1.29,>=1.0.0->wandb>=0.10.32->simpletransformers) (4.0.10)\n",
      "Requirement already satisfied: pyasn1-modules>=0.2.1 in /Users/rams/miniforge3/envs/env_arm_py39/lib/python3.9/site-packages (from google-auth<3,>=1.6.3->tensorboard->simpletransformers) (0.2.8)\n",
      "Requirement already satisfied: rsa<5,>=3.1.4 in /Users/rams/miniforge3/envs/env_arm_py39/lib/python3.9/site-packages (from google-auth<3,>=1.6.3->tensorboard->simpletransformers) (4.9)\n",
      "Requirement already satisfied: requests-oauthlib>=0.7.0 in /Users/rams/miniforge3/envs/env_arm_py39/lib/python3.9/site-packages (from google-auth-oauthlib<2,>=0.5->tensorboard->simpletransformers) (1.3.1)\n",
      "Requirement already satisfied: zipp>=0.5 in /Users/rams/miniforge3/envs/env_arm_py39/lib/python3.9/site-packages (from importlib-metadata<7,>=1.4->streamlit->simpletransformers) (3.8.1)\n",
      "Requirement already satisfied: pyparsing!=3.0.5,>=2.0.2 in /Users/rams/miniforge3/envs/env_arm_py39/lib/python3.9/site-packages (from packaging>=20.0->transformers>=4.31.0->simpletransformers) (3.0.9)\n",
      "Requirement already satisfied: markdown-it-py>=2.2.0 in /Users/rams/miniforge3/envs/env_arm_py39/lib/python3.9/site-packages (from rich<14,>=10.14.0->streamlit->simpletransformers) (3.0.0)\n",
      "Requirement already satisfied: pygments<3.0.0,>=2.13.0 in /Users/rams/miniforge3/envs/env_arm_py39/lib/python3.9/site-packages (from rich<14,>=10.14.0->streamlit->simpletransformers) (2.13.0)\n",
      "Requirement already satisfied: MarkupSafe>=2.1.1 in /Users/rams/miniforge3/envs/env_arm_py39/lib/python3.9/site-packages (from werkzeug>=1.0.1->tensorboard->simpletransformers) (2.1.1)\n",
      "Requirement already satisfied: smmap<6,>=3.0.1 in /Users/rams/miniforge3/envs/env_arm_py39/lib/python3.9/site-packages (from gitdb<5,>=4.0.1->GitPython!=3.1.29,>=1.0.0->wandb>=0.10.32->simpletransformers) (3.0.5)\n",
      "Requirement already satisfied: pyrsistent!=0.17.0,!=0.17.1,!=0.17.2,>=0.14.0 in /Users/rams/miniforge3/envs/env_arm_py39/lib/python3.9/site-packages (from jsonschema>=3.0->altair<6,>=4.0->streamlit->simpletransformers) (0.18.1)\n",
      "Requirement already satisfied: mdurl~=0.1 in /Users/rams/miniforge3/envs/env_arm_py39/lib/python3.9/site-packages (from markdown-it-py>=2.2.0->rich<14,>=10.14.0->streamlit->simpletransformers) (0.1.2)\n",
      "Requirement already satisfied: pyasn1<0.5.0,>=0.4.6 in /Users/rams/miniforge3/envs/env_arm_py39/lib/python3.9/site-packages (from pyasn1-modules>=0.2.1->google-auth<3,>=1.6.3->tensorboard->simpletransformers) (0.4.8)\n",
      "Requirement already satisfied: oauthlib>=3.0.0 in /Users/rams/miniforge3/envs/env_arm_py39/lib/python3.9/site-packages (from requests-oauthlib>=0.7.0->google-auth-oauthlib<2,>=0.5->tensorboard->simpletransformers) (3.2.1)\n"
     ]
    }
   ],
   "source": [
    "!pip install simpletransformers"
   ]
  },
  {
   "cell_type": "code",
   "execution_count": 25,
   "id": "87790974-dcbd-4445-b260-dd2e7d50eac7",
   "metadata": {},
   "outputs": [],
   "source": [
    "from simpletransformers.ner import NERModel"
   ]
  },
  {
   "cell_type": "code",
   "execution_count": 27,
   "id": "f3774ed2-4e42-40a0-9d6c-e27b9340a56a",
   "metadata": {},
   "outputs": [
    {
     "name": "stdout",
     "output_type": "stream",
     "text": [
      "reading train file: processed_data/bert_train.pkl\n",
      "reading eval file: processed_data/bert_dev.pkl\n",
      "reading test file: processed_data/bert_test.pkl\n",
      "130358 16566\n",
      "15947\n",
      "/error_correction_ce_syntax/ner_1e5_bs32_bert_large\n"
     ]
    },
    {
     "data": {
      "application/vnd.jupyter.widget-view+json": {
       "model_id": "885cf5c687eb4101af5915a8007d1f02",
       "version_major": 2,
       "version_minor": 0
      },
      "text/plain": [
       "Downloading model.safetensors:   0%|          | 0.00/1.34G [00:00<?, ?B/s]"
      ]
     },
     "metadata": {},
     "output_type": "display_data"
    },
    {
     "name": "stderr",
     "output_type": "stream",
     "text": [
      "Some weights of BertForTokenClassification were not initialized from the model checkpoint at bert-large-cased and are newly initialized: ['classifier.bias', 'classifier.weight']\n",
      "You should probably TRAIN this model on a down-stream task to be able to use it for predictions and inference.\n"
     ]
    },
    {
     "data": {
      "application/vnd.jupyter.widget-view+json": {
       "model_id": "979ae1868f6e47b39aefa84cf82fffca",
       "version_major": 2,
       "version_minor": 0
      },
      "text/plain": [
       "Downloading (…)okenizer_config.json:   0%|          | 0.00/29.0 [00:00<?, ?B/s]"
      ]
     },
     "metadata": {},
     "output_type": "display_data"
    },
    {
     "data": {
      "application/vnd.jupyter.widget-view+json": {
       "model_id": "70b11099c6124a52b238d1207ca8ca85",
       "version_major": 2,
       "version_minor": 0
      },
      "text/plain": [
       "Downloading (…)solve/main/vocab.txt:   0%|          | 0.00/213k [00:00<?, ?B/s]"
      ]
     },
     "metadata": {},
     "output_type": "display_data"
    },
    {
     "data": {
      "application/vnd.jupyter.widget-view+json": {
       "model_id": "75b8ff3466ed4d79bf2aa687de1b33b5",
       "version_major": 2,
       "version_minor": 0
      },
      "text/plain": [
       "Downloading (…)/main/tokenizer.json:   0%|          | 0.00/436k [00:00<?, ?B/s]"
      ]
     },
     "metadata": {},
     "output_type": "display_data"
    },
    {
     "data": {
      "application/vnd.jupyter.widget-view+json": {
       "model_id": "a7b4ebf9fb1a4c56b258f760b2327721",
       "version_major": 2,
       "version_minor": 0
      },
      "text/plain": [
       "  0%|          | 0/4152 [00:00<?, ?it/s]"
      ]
     },
     "metadata": {},
     "output_type": "display_data"
    },
    {
     "name": "stderr",
     "output_type": "stream",
     "text": [
      "/Users/rams/miniforge3/envs/env_arm_py39/lib/python3.9/site-packages/torch/utils/data/dataloader.py:563: UserWarning: This DataLoader will create 20 worker processes in total. Our suggested max number of worker in current system is 8 (`cpuset` is not taken into account), which is smaller than what this DataLoader is going to create. Please be aware that excessive worker creation might get DataLoader running slow or even freeze, lower the worker number to avoid potential slowness/freeze if necessary.\n",
      "  warnings.warn(_create_warning_msg(\n"
     ]
    },
    {
     "data": {
      "application/vnd.jupyter.widget-view+json": {
       "model_id": "5584be4e8b4c466da549cedde929fd47",
       "version_major": 2,
       "version_minor": 0
      },
      "text/plain": [
       "Epoch:   0%|          | 0/10 [00:00<?, ?it/s]"
      ]
     },
     "metadata": {},
     "output_type": "display_data"
    },
    {
     "data": {
      "text/html": [
       "Tracking run with wandb version 0.15.12"
      ],
      "text/plain": [
       "<IPython.core.display.HTML object>"
      ]
     },
     "metadata": {},
     "output_type": "display_data"
    },
    {
     "data": {
      "text/html": [
       "W&B syncing is set to <code>`offline`<code> in this directory.  <br/>Run <code>`wandb online`<code> or set <code>WANDB_MODE=online<code> to enable cloud syncing."
      ],
      "text/plain": [
       "<IPython.core.display.HTML object>"
      ]
     },
     "metadata": {},
     "output_type": "display_data"
    },
    {
     "name": "stderr",
     "output_type": "stream",
     "text": [
      "/Users/rams/miniforge3/envs/env_arm_py39/lib/python3.9/site-packages/torch/utils/data/dataloader.py:563: UserWarning: This DataLoader will create 20 worker processes in total. Our suggested max number of worker in current system is 8 (`cpuset` is not taken into account), which is smaller than what this DataLoader is going to create. Please be aware that excessive worker creation might get DataLoader running slow or even freeze, lower the worker number to avoid potential slowness/freeze if necessary.\n",
      "  warnings.warn(_create_warning_msg(\n"
     ]
    },
    {
     "data": {
      "application/vnd.jupyter.widget-view+json": {
       "model_id": "65c2e498763a43e78471c081c5a5ba5c",
       "version_major": 2,
       "version_minor": 0
      },
      "text/plain": [
       "Running Epoch 0 of 10:   0%|          | 0/519 [00:00<?, ?it/s]"
      ]
     },
     "metadata": {},
     "output_type": "display_data"
    },
    {
     "name": "stderr",
     "output_type": "stream",
     "text": [
      "[E thread_pool.cpp:113] Exception in thread pool task: mutex lock failed: Invalid argument\n",
      "[E thread_pool.cpp:113] Exception in thread pool task: mutex lock failed: Invalid argument\n",
      "[E thread_pool.cpp:113] Exception in thread pool task: mutex lock failed: Invalid argument\n"
     ]
    },
    {
     "ename": "KeyboardInterrupt",
     "evalue": "",
     "output_type": "error",
     "traceback": [
      "\u001b[0;31m---------------------------------------------------------------------------\u001b[0m",
      "\u001b[0;31mKeyboardInterrupt\u001b[0m                         Traceback (most recent call last)",
      "Cell \u001b[0;32mIn [27], line 101\u001b[0m\n\u001b[1;32m     98\u001b[0m \u001b[38;5;66;03m# Create a NERModel\u001b[39;00m\n\u001b[1;32m     99\u001b[0m \u001b[38;5;28;01mif\u001b[39;00m args\u001b[38;5;241m.\u001b[39monly_inference \u001b[38;5;129;01mis\u001b[39;00m \u001b[38;5;28;01mNone\u001b[39;00m:\n\u001b[1;32m    100\u001b[0m     \u001b[38;5;66;03m# Train the model\u001b[39;00m\n\u001b[0;32m--> 101\u001b[0m     \u001b[43mmodel\u001b[49m\u001b[38;5;241;43m.\u001b[39;49m\u001b[43mtrain_model\u001b[49m\u001b[43m(\u001b[49m\u001b[43mtrain_df\u001b[49m\u001b[43m,\u001b[49m\u001b[43m \u001b[49m\u001b[43meval_data\u001b[49m\u001b[38;5;241;43m=\u001b[39;49m\u001b[43meval_df\u001b[49m\u001b[43m,\u001b[49m\u001b[43m \u001b[49m\u001b[43mtest_data\u001b[49m\u001b[38;5;241;43m=\u001b[39;49m\u001b[43mtest_df\u001b[49m\u001b[43m)\u001b[49m\n\u001b[1;32m    103\u001b[0m \u001b[38;5;28;01mif\u001b[39;00m args\u001b[38;5;241m.\u001b[39monly_inference \u001b[38;5;129;01mis\u001b[39;00m \u001b[38;5;28;01mNone\u001b[39;00m \u001b[38;5;129;01mor\u001b[39;00m \u001b[38;5;124m'\u001b[39m\u001b[38;5;124mdev\u001b[39m\u001b[38;5;124m'\u001b[39m \u001b[38;5;129;01min\u001b[39;00m args\u001b[38;5;241m.\u001b[39monly_inference:\n\u001b[1;32m    104\u001b[0m     result, model_outputs, predictions, out_label_list \u001b[38;5;241m=\u001b[39m model\u001b[38;5;241m.\u001b[39meval_model(eval_df, wandb_log\u001b[38;5;241m=\u001b[39m\u001b[38;5;28;01mFalse\u001b[39;00m)\n",
      "File \u001b[0;32m~/miniforge3/envs/env_arm_py39/lib/python3.9/site-packages/simpletransformers/ner/ner_model.py:513\u001b[0m, in \u001b[0;36mNERModel.train_model\u001b[0;34m(self, train_data, output_dir, show_running_loss, args, eval_data, verbose, **kwargs)\u001b[0m\n\u001b[1;32m    509\u001b[0m train_dataset \u001b[38;5;241m=\u001b[39m \u001b[38;5;28mself\u001b[39m\u001b[38;5;241m.\u001b[39mload_and_cache_examples(train_data)\n\u001b[1;32m    511\u001b[0m os\u001b[38;5;241m.\u001b[39mmakedirs(output_dir, exist_ok\u001b[38;5;241m=\u001b[39m\u001b[38;5;28;01mTrue\u001b[39;00m)\n\u001b[0;32m--> 513\u001b[0m global_step, training_details \u001b[38;5;241m=\u001b[39m \u001b[38;5;28;43mself\u001b[39;49m\u001b[38;5;241;43m.\u001b[39;49m\u001b[43mtrain\u001b[49m\u001b[43m(\u001b[49m\n\u001b[1;32m    514\u001b[0m \u001b[43m    \u001b[49m\u001b[43mtrain_dataset\u001b[49m\u001b[43m,\u001b[49m\n\u001b[1;32m    515\u001b[0m \u001b[43m    \u001b[49m\u001b[43moutput_dir\u001b[49m\u001b[43m,\u001b[49m\n\u001b[1;32m    516\u001b[0m \u001b[43m    \u001b[49m\u001b[43mshow_running_loss\u001b[49m\u001b[38;5;241;43m=\u001b[39;49m\u001b[43mshow_running_loss\u001b[49m\u001b[43m,\u001b[49m\n\u001b[1;32m    517\u001b[0m \u001b[43m    \u001b[49m\u001b[43meval_data\u001b[49m\u001b[38;5;241;43m=\u001b[39;49m\u001b[43meval_data\u001b[49m\u001b[43m,\u001b[49m\n\u001b[1;32m    518\u001b[0m \u001b[43m    \u001b[49m\u001b[38;5;241;43m*\u001b[39;49m\u001b[38;5;241;43m*\u001b[39;49m\u001b[43mkwargs\u001b[49m\u001b[43m,\u001b[49m\n\u001b[1;32m    519\u001b[0m \u001b[43m\u001b[49m\u001b[43m)\u001b[49m\n\u001b[1;32m    521\u001b[0m \u001b[38;5;28mself\u001b[39m\u001b[38;5;241m.\u001b[39msave_model(model\u001b[38;5;241m=\u001b[39m\u001b[38;5;28mself\u001b[39m\u001b[38;5;241m.\u001b[39mmodel)\n\u001b[1;32m    523\u001b[0m logger\u001b[38;5;241m.\u001b[39minfo(\n\u001b[1;32m    524\u001b[0m     \u001b[38;5;124m\"\u001b[39m\u001b[38;5;124m Training of \u001b[39m\u001b[38;5;132;01m{}\u001b[39;00m\u001b[38;5;124m model complete. Saved to \u001b[39m\u001b[38;5;132;01m{}\u001b[39;00m\u001b[38;5;124m.\u001b[39m\u001b[38;5;124m\"\u001b[39m\u001b[38;5;241m.\u001b[39mformat(\n\u001b[1;32m    525\u001b[0m         \u001b[38;5;28mself\u001b[39m\u001b[38;5;241m.\u001b[39margs\u001b[38;5;241m.\u001b[39mmodel_type, output_dir\n\u001b[1;32m    526\u001b[0m     )\n\u001b[1;32m    527\u001b[0m )\n",
      "File \u001b[0;32m~/miniforge3/envs/env_arm_py39/lib/python3.9/site-packages/simpletransformers/ner/ner_model.py:832\u001b[0m, in \u001b[0;36mNERModel.train\u001b[0;34m(self, train_dataset, output_dir, show_running_loss, eval_data, test_data, verbose, **kwargs)\u001b[0m\n\u001b[1;32m    830\u001b[0m     scaler\u001b[38;5;241m.\u001b[39mupdate()\n\u001b[1;32m    831\u001b[0m \u001b[38;5;28;01melse\u001b[39;00m:\n\u001b[0;32m--> 832\u001b[0m     \u001b[43moptimizer\u001b[49m\u001b[38;5;241;43m.\u001b[39;49m\u001b[43mstep\u001b[49m\u001b[43m(\u001b[49m\u001b[43m)\u001b[49m\n\u001b[1;32m    833\u001b[0m scheduler\u001b[38;5;241m.\u001b[39mstep()  \u001b[38;5;66;03m# Update learning rate schedule\u001b[39;00m\n\u001b[1;32m    834\u001b[0m model\u001b[38;5;241m.\u001b[39mzero_grad()\n",
      "File \u001b[0;32m~/miniforge3/envs/env_arm_py39/lib/python3.9/site-packages/torch/optim/lr_scheduler.py:65\u001b[0m, in \u001b[0;36m_LRScheduler.__init__.<locals>.with_counter.<locals>.wrapper\u001b[0;34m(*args, **kwargs)\u001b[0m\n\u001b[1;32m     63\u001b[0m instance\u001b[38;5;241m.\u001b[39m_step_count \u001b[38;5;241m+\u001b[39m\u001b[38;5;241m=\u001b[39m \u001b[38;5;241m1\u001b[39m\n\u001b[1;32m     64\u001b[0m wrapped \u001b[38;5;241m=\u001b[39m func\u001b[38;5;241m.\u001b[39m\u001b[38;5;21m__get__\u001b[39m(instance, \u001b[38;5;28mcls\u001b[39m)\n\u001b[0;32m---> 65\u001b[0m \u001b[38;5;28;01mreturn\u001b[39;00m \u001b[43mwrapped\u001b[49m\u001b[43m(\u001b[49m\u001b[38;5;241;43m*\u001b[39;49m\u001b[43margs\u001b[49m\u001b[43m,\u001b[49m\u001b[43m \u001b[49m\u001b[38;5;241;43m*\u001b[39;49m\u001b[38;5;241;43m*\u001b[39;49m\u001b[43mkwargs\u001b[49m\u001b[43m)\u001b[49m\n",
      "File \u001b[0;32m~/miniforge3/envs/env_arm_py39/lib/python3.9/site-packages/torch/optim/optimizer.py:113\u001b[0m, in \u001b[0;36mOptimizer._hook_for_profile.<locals>.profile_hook_step.<locals>.wrapper\u001b[0;34m(*args, **kwargs)\u001b[0m\n\u001b[1;32m    111\u001b[0m profile_name \u001b[38;5;241m=\u001b[39m \u001b[38;5;124m\"\u001b[39m\u001b[38;5;124mOptimizer.step#\u001b[39m\u001b[38;5;132;01m{}\u001b[39;00m\u001b[38;5;124m.step\u001b[39m\u001b[38;5;124m\"\u001b[39m\u001b[38;5;241m.\u001b[39mformat(obj\u001b[38;5;241m.\u001b[39m\u001b[38;5;18m__class__\u001b[39m\u001b[38;5;241m.\u001b[39m\u001b[38;5;18m__name__\u001b[39m)\n\u001b[1;32m    112\u001b[0m \u001b[38;5;28;01mwith\u001b[39;00m torch\u001b[38;5;241m.\u001b[39mautograd\u001b[38;5;241m.\u001b[39mprofiler\u001b[38;5;241m.\u001b[39mrecord_function(profile_name):\n\u001b[0;32m--> 113\u001b[0m     \u001b[38;5;28;01mreturn\u001b[39;00m \u001b[43mfunc\u001b[49m\u001b[43m(\u001b[49m\u001b[38;5;241;43m*\u001b[39;49m\u001b[43margs\u001b[49m\u001b[43m,\u001b[49m\u001b[43m \u001b[49m\u001b[38;5;241;43m*\u001b[39;49m\u001b[38;5;241;43m*\u001b[39;49m\u001b[43mkwargs\u001b[49m\u001b[43m)\u001b[49m\n",
      "File \u001b[0;32m~/miniforge3/envs/env_arm_py39/lib/python3.9/site-packages/torch/autograd/grad_mode.py:27\u001b[0m, in \u001b[0;36m_DecoratorContextManager.__call__.<locals>.decorate_context\u001b[0;34m(*args, **kwargs)\u001b[0m\n\u001b[1;32m     24\u001b[0m \u001b[38;5;129m@functools\u001b[39m\u001b[38;5;241m.\u001b[39mwraps(func)\n\u001b[1;32m     25\u001b[0m \u001b[38;5;28;01mdef\u001b[39;00m \u001b[38;5;21mdecorate_context\u001b[39m(\u001b[38;5;241m*\u001b[39margs, \u001b[38;5;241m*\u001b[39m\u001b[38;5;241m*\u001b[39mkwargs):\n\u001b[1;32m     26\u001b[0m     \u001b[38;5;28;01mwith\u001b[39;00m \u001b[38;5;28mself\u001b[39m\u001b[38;5;241m.\u001b[39mclone():\n\u001b[0;32m---> 27\u001b[0m         \u001b[38;5;28;01mreturn\u001b[39;00m \u001b[43mfunc\u001b[49m\u001b[43m(\u001b[49m\u001b[38;5;241;43m*\u001b[39;49m\u001b[43margs\u001b[49m\u001b[43m,\u001b[49m\u001b[43m \u001b[49m\u001b[38;5;241;43m*\u001b[39;49m\u001b[38;5;241;43m*\u001b[39;49m\u001b[43mkwargs\u001b[49m\u001b[43m)\u001b[49m\n",
      "File \u001b[0;32m~/miniforge3/envs/env_arm_py39/lib/python3.9/site-packages/torch/optim/adamw.py:161\u001b[0m, in \u001b[0;36mAdamW.step\u001b[0;34m(self, closure)\u001b[0m\n\u001b[1;32m    157\u001b[0m             max_exp_avg_sqs\u001b[38;5;241m.\u001b[39mappend(state[\u001b[38;5;124m'\u001b[39m\u001b[38;5;124mmax_exp_avg_sq\u001b[39m\u001b[38;5;124m'\u001b[39m])\n\u001b[1;32m    159\u001b[0m         state_steps\u001b[38;5;241m.\u001b[39mappend(state[\u001b[38;5;124m'\u001b[39m\u001b[38;5;124mstep\u001b[39m\u001b[38;5;124m'\u001b[39m])\n\u001b[0;32m--> 161\u001b[0m     \u001b[43madamw\u001b[49m\u001b[43m(\u001b[49m\u001b[43mparams_with_grad\u001b[49m\u001b[43m,\u001b[49m\n\u001b[1;32m    162\u001b[0m \u001b[43m          \u001b[49m\u001b[43mgrads\u001b[49m\u001b[43m,\u001b[49m\n\u001b[1;32m    163\u001b[0m \u001b[43m          \u001b[49m\u001b[43mexp_avgs\u001b[49m\u001b[43m,\u001b[49m\n\u001b[1;32m    164\u001b[0m \u001b[43m          \u001b[49m\u001b[43mexp_avg_sqs\u001b[49m\u001b[43m,\u001b[49m\n\u001b[1;32m    165\u001b[0m \u001b[43m          \u001b[49m\u001b[43mmax_exp_avg_sqs\u001b[49m\u001b[43m,\u001b[49m\n\u001b[1;32m    166\u001b[0m \u001b[43m          \u001b[49m\u001b[43mstate_steps\u001b[49m\u001b[43m,\u001b[49m\n\u001b[1;32m    167\u001b[0m \u001b[43m          \u001b[49m\u001b[43mamsgrad\u001b[49m\u001b[38;5;241;43m=\u001b[39;49m\u001b[43mamsgrad\u001b[49m\u001b[43m,\u001b[49m\n\u001b[1;32m    168\u001b[0m \u001b[43m          \u001b[49m\u001b[43mbeta1\u001b[49m\u001b[38;5;241;43m=\u001b[39;49m\u001b[43mbeta1\u001b[49m\u001b[43m,\u001b[49m\n\u001b[1;32m    169\u001b[0m \u001b[43m          \u001b[49m\u001b[43mbeta2\u001b[49m\u001b[38;5;241;43m=\u001b[39;49m\u001b[43mbeta2\u001b[49m\u001b[43m,\u001b[49m\n\u001b[1;32m    170\u001b[0m \u001b[43m          \u001b[49m\u001b[43mlr\u001b[49m\u001b[38;5;241;43m=\u001b[39;49m\u001b[43mgroup\u001b[49m\u001b[43m[\u001b[49m\u001b[38;5;124;43m'\u001b[39;49m\u001b[38;5;124;43mlr\u001b[39;49m\u001b[38;5;124;43m'\u001b[39;49m\u001b[43m]\u001b[49m\u001b[43m,\u001b[49m\n\u001b[1;32m    171\u001b[0m \u001b[43m          \u001b[49m\u001b[43mweight_decay\u001b[49m\u001b[38;5;241;43m=\u001b[39;49m\u001b[43mgroup\u001b[49m\u001b[43m[\u001b[49m\u001b[38;5;124;43m'\u001b[39;49m\u001b[38;5;124;43mweight_decay\u001b[39;49m\u001b[38;5;124;43m'\u001b[39;49m\u001b[43m]\u001b[49m\u001b[43m,\u001b[49m\n\u001b[1;32m    172\u001b[0m \u001b[43m          \u001b[49m\u001b[43meps\u001b[49m\u001b[38;5;241;43m=\u001b[39;49m\u001b[43mgroup\u001b[49m\u001b[43m[\u001b[49m\u001b[38;5;124;43m'\u001b[39;49m\u001b[38;5;124;43meps\u001b[39;49m\u001b[38;5;124;43m'\u001b[39;49m\u001b[43m]\u001b[49m\u001b[43m,\u001b[49m\n\u001b[1;32m    173\u001b[0m \u001b[43m          \u001b[49m\u001b[43mmaximize\u001b[49m\u001b[38;5;241;43m=\u001b[39;49m\u001b[43mgroup\u001b[49m\u001b[43m[\u001b[49m\u001b[38;5;124;43m'\u001b[39;49m\u001b[38;5;124;43mmaximize\u001b[39;49m\u001b[38;5;124;43m'\u001b[39;49m\u001b[43m]\u001b[49m\u001b[43m,\u001b[49m\n\u001b[1;32m    174\u001b[0m \u001b[43m          \u001b[49m\u001b[43mforeach\u001b[49m\u001b[38;5;241;43m=\u001b[39;49m\u001b[43mgroup\u001b[49m\u001b[43m[\u001b[49m\u001b[38;5;124;43m'\u001b[39;49m\u001b[38;5;124;43mforeach\u001b[39;49m\u001b[38;5;124;43m'\u001b[39;49m\u001b[43m]\u001b[49m\u001b[43m,\u001b[49m\n\u001b[1;32m    175\u001b[0m \u001b[43m          \u001b[49m\u001b[43mcapturable\u001b[49m\u001b[38;5;241;43m=\u001b[39;49m\u001b[43mgroup\u001b[49m\u001b[43m[\u001b[49m\u001b[38;5;124;43m'\u001b[39;49m\u001b[38;5;124;43mcapturable\u001b[39;49m\u001b[38;5;124;43m'\u001b[39;49m\u001b[43m]\u001b[49m\u001b[43m)\u001b[49m\n\u001b[1;32m    177\u001b[0m \u001b[38;5;28;01mreturn\u001b[39;00m loss\n",
      "File \u001b[0;32m~/miniforge3/envs/env_arm_py39/lib/python3.9/site-packages/torch/optim/adamw.py:218\u001b[0m, in \u001b[0;36madamw\u001b[0;34m(params, grads, exp_avgs, exp_avg_sqs, max_exp_avg_sqs, state_steps, foreach, capturable, amsgrad, beta1, beta2, lr, weight_decay, eps, maximize)\u001b[0m\n\u001b[1;32m    215\u001b[0m \u001b[38;5;28;01melse\u001b[39;00m:\n\u001b[1;32m    216\u001b[0m     func \u001b[38;5;241m=\u001b[39m _single_tensor_adamw\n\u001b[0;32m--> 218\u001b[0m \u001b[43mfunc\u001b[49m\u001b[43m(\u001b[49m\u001b[43mparams\u001b[49m\u001b[43m,\u001b[49m\n\u001b[1;32m    219\u001b[0m \u001b[43m     \u001b[49m\u001b[43mgrads\u001b[49m\u001b[43m,\u001b[49m\n\u001b[1;32m    220\u001b[0m \u001b[43m     \u001b[49m\u001b[43mexp_avgs\u001b[49m\u001b[43m,\u001b[49m\n\u001b[1;32m    221\u001b[0m \u001b[43m     \u001b[49m\u001b[43mexp_avg_sqs\u001b[49m\u001b[43m,\u001b[49m\n\u001b[1;32m    222\u001b[0m \u001b[43m     \u001b[49m\u001b[43mmax_exp_avg_sqs\u001b[49m\u001b[43m,\u001b[49m\n\u001b[1;32m    223\u001b[0m \u001b[43m     \u001b[49m\u001b[43mstate_steps\u001b[49m\u001b[43m,\u001b[49m\n\u001b[1;32m    224\u001b[0m \u001b[43m     \u001b[49m\u001b[43mamsgrad\u001b[49m\u001b[38;5;241;43m=\u001b[39;49m\u001b[43mamsgrad\u001b[49m\u001b[43m,\u001b[49m\n\u001b[1;32m    225\u001b[0m \u001b[43m     \u001b[49m\u001b[43mbeta1\u001b[49m\u001b[38;5;241;43m=\u001b[39;49m\u001b[43mbeta1\u001b[49m\u001b[43m,\u001b[49m\n\u001b[1;32m    226\u001b[0m \u001b[43m     \u001b[49m\u001b[43mbeta2\u001b[49m\u001b[38;5;241;43m=\u001b[39;49m\u001b[43mbeta2\u001b[49m\u001b[43m,\u001b[49m\n\u001b[1;32m    227\u001b[0m \u001b[43m     \u001b[49m\u001b[43mlr\u001b[49m\u001b[38;5;241;43m=\u001b[39;49m\u001b[43mlr\u001b[49m\u001b[43m,\u001b[49m\n\u001b[1;32m    228\u001b[0m \u001b[43m     \u001b[49m\u001b[43mweight_decay\u001b[49m\u001b[38;5;241;43m=\u001b[39;49m\u001b[43mweight_decay\u001b[49m\u001b[43m,\u001b[49m\n\u001b[1;32m    229\u001b[0m \u001b[43m     \u001b[49m\u001b[43meps\u001b[49m\u001b[38;5;241;43m=\u001b[39;49m\u001b[43meps\u001b[49m\u001b[43m,\u001b[49m\n\u001b[1;32m    230\u001b[0m \u001b[43m     \u001b[49m\u001b[43mmaximize\u001b[49m\u001b[38;5;241;43m=\u001b[39;49m\u001b[43mmaximize\u001b[49m\u001b[43m,\u001b[49m\n\u001b[1;32m    231\u001b[0m \u001b[43m     \u001b[49m\u001b[43mcapturable\u001b[49m\u001b[38;5;241;43m=\u001b[39;49m\u001b[43mcapturable\u001b[49m\u001b[43m)\u001b[49m\n",
      "File \u001b[0;32m~/miniforge3/envs/env_arm_py39/lib/python3.9/site-packages/torch/optim/adamw.py:266\u001b[0m, in \u001b[0;36m_single_tensor_adamw\u001b[0;34m(params, grads, exp_avgs, exp_avg_sqs, max_exp_avg_sqs, state_steps, amsgrad, beta1, beta2, lr, weight_decay, eps, maximize, capturable)\u001b[0m\n\u001b[1;32m    263\u001b[0m param\u001b[38;5;241m.\u001b[39mmul_(\u001b[38;5;241m1\u001b[39m \u001b[38;5;241m-\u001b[39m lr \u001b[38;5;241m*\u001b[39m weight_decay)\n\u001b[1;32m    265\u001b[0m \u001b[38;5;66;03m# Decay the first and second moment running average coefficient\u001b[39;00m\n\u001b[0;32m--> 266\u001b[0m \u001b[43mexp_avg\u001b[49m\u001b[38;5;241;43m.\u001b[39;49m\u001b[43mmul_\u001b[49m\u001b[43m(\u001b[49m\u001b[43mbeta1\u001b[49m\u001b[43m)\u001b[49m\u001b[38;5;241m.\u001b[39madd_(grad, alpha\u001b[38;5;241m=\u001b[39m\u001b[38;5;241m1\u001b[39m \u001b[38;5;241m-\u001b[39m beta1)\n\u001b[1;32m    267\u001b[0m exp_avg_sq\u001b[38;5;241m.\u001b[39mmul_(beta2)\u001b[38;5;241m.\u001b[39maddcmul_(grad, grad, value\u001b[38;5;241m=\u001b[39m\u001b[38;5;241m1\u001b[39m \u001b[38;5;241m-\u001b[39m beta2)\n\u001b[1;32m    269\u001b[0m \u001b[38;5;28;01mif\u001b[39;00m capturable:\n",
      "\u001b[0;31mKeyboardInterrupt\u001b[0m: "
     ]
    }
   ],
   "source": [
    "output_base_dir = os.path.join(os.path.abspath('.'), 'outputs')\n",
    "\n",
    "args = Training_config(main_args.ECC_TRAIN_CONFIG)\n",
    "labels = training_args.BIO_labels\n",
    "\n",
    "if args.model_type != 'interactive':\n",
    "    labels = labels[:-1]\n",
    "\n",
    "train_file, eval_file, test_file = args.train_dev_data\n",
    "\n",
    "print(\"reading train file:\", train_file)\n",
    "with open(train_file, 'rb') as f:\n",
    "    train_data = pickle.load(f)\n",
    "print(\"reading eval file:\", eval_file)\n",
    "with open(eval_file, 'rb') as f:\n",
    "    eval_data = pickle.load(f)\n",
    "print(\"reading test file:\", test_file)\n",
    "with open(test_file, 'rb') as f:\n",
    "    test_data = pickle.load(f)\n",
    "\n",
    "if args.debug:\n",
    "    train_data = train_data[:[i for i, d in enumerate(train_data) if d[0]<6][-1]]\n",
    "    eval_data = eval_data[:[i for i, d in enumerate(eval_data) if d[0]<6][-1]]\n",
    "    test_data = test_data[:[i for i, d in enumerate(test_data) if d[0]<6][-1]]\n",
    "    wandb_project = False\n",
    "else:\n",
    "    wandb_project = \"gec_ner\"\n",
    "\n",
    "columns=[\"sentence_id\", \"words\", \"labels\", \"cls_labels\", \"correction_index\", \"parsing_embedding\"]\n",
    "\n",
    "train_df = pd.DataFrame(train_data, columns=columns)\n",
    "eval_df = pd.DataFrame(eval_data, columns=columns)\n",
    "if test_file:\n",
    "    test_df = pd.DataFrame(test_data, columns=columns)\n",
    "if not args.parsing_embedding:\n",
    "    train_df = train_df.drop(['parsing_embedding'], axis=1)\n",
    "    eval_df = eval_df.drop(['parsing_embedding'], axis=1)\n",
    "    test_df = test_df.drop(['parsing_embedding'], axis=1)\n",
    "\n",
    "print(len(train_df), len(eval_df))\n",
    "print(len(test_df))\n",
    "\n",
    "if args.only_inference is not None:\n",
    "    args.model_name = output_base_dir + args.exp_name\n",
    "print(args.exp_name)\n",
    "\n",
    "if args.only_inference is not None:\n",
    "    if args.output_dir is None:\n",
    "        output_dir = output_base_dir + args.exp_name\n",
    "    else:\n",
    "        output_dir = args.output_dir\n",
    "        args.exp_name = output_dir\n",
    "else:\n",
    "    output_dir = output_base_dir + args.exp_name + '/eval'\n",
    "\n",
    "model_args = {\"overwrite_output_dir\": True,\n",
    "          \"num_train_epochs\": args.epochs,\n",
    "          \"train_batch_size\": args.train_batch_size,\n",
    "          \"eval_batch_size\": args.eval_batch_size,\n",
    "          \"output_dir\": output_dir,\n",
    "          \"reprocess_input_data\": True,\n",
    "          \"special_tokens_list\": [\"[NONE]\", \"[MOD]\"],\n",
    "          \"wandb_kwargs\": {\n",
    "              \"mode\": 'offline',\n",
    "              \"name\": args.exp_name,\n",
    "          },\n",
    "          \"wandb_project\": wandb_project,\n",
    "          \"evaluate_during_training\": args.evaluate_during_training,\n",
    "          \"evaluate_each_epoch\": args.evaluate_each_epoch,\n",
    "          \"learning_rate\": args.lr,\n",
    "          \"multi_loss\": args.multi_loss,\n",
    "          \"wo_token_labels\": args.wo_token_labels,\n",
    "          \"cls_num_labels\": 15, # label nums for [CLS] token classification\n",
    "          \"use_multiprocessing_for_evaluation\": False,\n",
    "          \"use_multiprocessing\": args.use_multiprocessing,\n",
    "          \"loss_weight\": args.loss_weight,\n",
    "          \"max_correction_embeddings\": args.max_correction_embeddings,\n",
    "          \"max_seq_length\": args.max_seq_length,\n",
    "          \"n_gpu\": args.n_gpu,\n",
    "          \"dataloader_num_workers\": 20,\n",
    "          \"save_eval_checkpoints\": False,\n",
    "          \"early_stopping_metric\": \"f1_score\",\n",
    "          \"best_model_dir\": output_dir,\n",
    "          \"parsing_embedding\": args.parsing_embedding,\n",
    "          \"parsing_embedding_for_embedding\": args.parsing_embedding_for_embedding,\n",
    "          \"logging_steps\": 0,\n",
    "          \"manual_seed\": 42\n",
    "          }\n",
    "\n",
    "model = NERModel(\n",
    "    model_type=args.model,\n",
    "    model_name=args.model_name,\n",
    "    labels=labels,\n",
    "    args=model_args,\n",
    "    use_cuda=args.use_cuda\n",
    ")\n",
    "\n",
    "# Create a NERModel\n",
    "if args.only_inference is None:\n",
    "    # Train the model\n",
    "    model.train_model(train_df, eval_data=eval_df, test_data=test_df)\n",
    "\n",
    "if args.only_inference is None or 'dev' in args.only_inference:\n",
    "    result, model_outputs, predictions, out_label_list = model.eval_model(eval_df, wandb_log=False)\n",
    "if args.only_inference is None or 'test' in args.only_inference:\n",
    "    result, model_outputs, predictions, out_label_list = model.eval_model(test_df, wandb_log=False)"
   ]
  },
  {
   "cell_type": "code",
   "execution_count": null,
   "id": "f2a91b2d-858c-4490-a734-a513e1a79d1d",
   "metadata": {},
   "outputs": [],
   "source": []
  }
 ],
 "metadata": {
  "kernelspec": {
   "display_name": "Python 3 (ipykernel)",
   "language": "python",
   "name": "python3"
  },
  "language_info": {
   "codemirror_mode": {
    "name": "ipython",
    "version": 3
   },
   "file_extension": ".py",
   "mimetype": "text/x-python",
   "name": "python",
   "nbconvert_exporter": "python",
   "pygments_lexer": "ipython3",
   "version": "3.9.13"
  }
 },
 "nbformat": 4,
 "nbformat_minor": 5
}
