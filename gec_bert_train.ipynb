{
 "cells": [
  {
   "cell_type": "markdown",
   "id": "4115546d-5199-4f12-a371-54270efc3c98",
   "metadata": {},
   "source": [
    "# Imports and Setup"
   ]
  },
  {
   "cell_type": "code",
   "execution_count": 1,
   "id": "211578ae-1bc4-4522-a62b-84426de6ac91",
   "metadata": {},
   "outputs": [],
   "source": [
    "%load_ext autoreload\n",
    "%autoreload 2"
   ]
  },
  {
   "cell_type": "code",
   "execution_count": 2,
   "id": "ce76704e-aa9a-4ab2-b839-27c5ba8c315a",
   "metadata": {},
   "outputs": [],
   "source": [
    "import pandas as pd\n",
    "import pickle\n",
    "import os\n",
    "from utils import Config, Training_config\n",
    "\n",
    "main_args = Config()"
   ]
  },
  {
   "cell_type": "code",
   "execution_count": 3,
   "id": "daa90a92-4bd1-4056-8d2f-4e5f871fec2e",
   "metadata": {},
   "outputs": [
    {
     "name": "stdout",
     "output_type": "stream",
     "text": [
      "Requirement already satisfied: simpletransformers in /Users/rams/miniforge3/envs/env_arm_py39/lib/python3.9/site-packages (0.64.3)\n",
      "Requirement already satisfied: streamlit in /Users/rams/miniforge3/envs/env_arm_py39/lib/python3.9/site-packages (from simpletransformers) (1.27.2)\n",
      "Requirement already satisfied: transformers>=4.31.0 in /Users/rams/miniforge3/envs/env_arm_py39/lib/python3.9/site-packages (from simpletransformers) (4.34.1)\n",
      "Requirement already satisfied: scikit-learn in /Users/rams/miniforge3/envs/env_arm_py39/lib/python3.9/site-packages (from simpletransformers) (1.1.2)\n",
      "Requirement already satisfied: seqeval in /Users/rams/miniforge3/envs/env_arm_py39/lib/python3.9/site-packages (from simpletransformers) (1.2.2)\n",
      "Requirement already satisfied: pandas in /Users/rams/miniforge3/envs/env_arm_py39/lib/python3.9/site-packages (from simpletransformers) (1.4.2)\n",
      "Requirement already satisfied: numpy in /Users/rams/miniforge3/envs/env_arm_py39/lib/python3.9/site-packages (from simpletransformers) (1.23.2)\n",
      "Requirement already satisfied: wandb>=0.10.32 in /Users/rams/miniforge3/envs/env_arm_py39/lib/python3.9/site-packages (from simpletransformers) (0.15.12)\n",
      "Requirement already satisfied: sentencepiece in /Users/rams/miniforge3/envs/env_arm_py39/lib/python3.9/site-packages (from simpletransformers) (0.1.99)\n",
      "Requirement already satisfied: requests in /Users/rams/miniforge3/envs/env_arm_py39/lib/python3.9/site-packages (from simpletransformers) (2.28.1)\n",
      "Requirement already satisfied: tokenizers in /Users/rams/miniforge3/envs/env_arm_py39/lib/python3.9/site-packages (from simpletransformers) (0.14.1)\n",
      "Requirement already satisfied: regex in /Users/rams/miniforge3/envs/env_arm_py39/lib/python3.9/site-packages (from simpletransformers) (2023.10.3)\n",
      "Requirement already satisfied: tqdm>=4.47.0 in /Users/rams/miniforge3/envs/env_arm_py39/lib/python3.9/site-packages (from simpletransformers) (4.64.1)\n",
      "Requirement already satisfied: datasets in /Users/rams/miniforge3/envs/env_arm_py39/lib/python3.9/site-packages (from simpletransformers) (2.14.5)\n",
      "Requirement already satisfied: scipy in /Users/rams/miniforge3/envs/env_arm_py39/lib/python3.9/site-packages (from simpletransformers) (1.9.1)\n",
      "Requirement already satisfied: tensorboard in /Users/rams/miniforge3/envs/env_arm_py39/lib/python3.9/site-packages (from simpletransformers) (2.15.0)\n",
      "Requirement already satisfied: packaging>=20.0 in /Users/rams/miniforge3/envs/env_arm_py39/lib/python3.9/site-packages (from transformers>=4.31.0->simpletransformers) (21.3)\n",
      "Requirement already satisfied: safetensors>=0.3.1 in /Users/rams/miniforge3/envs/env_arm_py39/lib/python3.9/site-packages (from transformers>=4.31.0->simpletransformers) (0.4.0)\n",
      "Requirement already satisfied: huggingface-hub<1.0,>=0.16.4 in /Users/rams/miniforge3/envs/env_arm_py39/lib/python3.9/site-packages (from transformers>=4.31.0->simpletransformers) (0.17.3)\n",
      "Requirement already satisfied: pyyaml>=5.1 in /Users/rams/miniforge3/envs/env_arm_py39/lib/python3.9/site-packages (from transformers>=4.31.0->simpletransformers) (6.0)\n",
      "Requirement already satisfied: filelock in /Users/rams/miniforge3/envs/env_arm_py39/lib/python3.9/site-packages (from transformers>=4.31.0->simpletransformers) (3.12.4)\n",
      "Requirement already satisfied: setproctitle in /Users/rams/miniforge3/envs/env_arm_py39/lib/python3.9/site-packages (from wandb>=0.10.32->simpletransformers) (1.3.3)\n",
      "Requirement already satisfied: protobuf!=4.21.0,<5,>=3.19.0 in /Users/rams/miniforge3/envs/env_arm_py39/lib/python3.9/site-packages (from wandb>=0.10.32->simpletransformers) (4.23.4)\n",
      "Requirement already satisfied: psutil>=5.0.0 in /Users/rams/miniforge3/envs/env_arm_py39/lib/python3.9/site-packages (from wandb>=0.10.32->simpletransformers) (5.9.2)\n",
      "Requirement already satisfied: GitPython!=3.1.29,>=1.0.0 in /Users/rams/miniforge3/envs/env_arm_py39/lib/python3.9/site-packages (from wandb>=0.10.32->simpletransformers) (3.1.37)\n",
      "Requirement already satisfied: pathtools in /Users/rams/miniforge3/envs/env_arm_py39/lib/python3.9/site-packages (from wandb>=0.10.32->simpletransformers) (0.1.2)\n",
      "Requirement already satisfied: sentry-sdk>=1.0.0 in /Users/rams/miniforge3/envs/env_arm_py39/lib/python3.9/site-packages (from wandb>=0.10.32->simpletransformers) (1.32.0)\n",
      "Requirement already satisfied: appdirs>=1.4.3 in /Users/rams/miniforge3/envs/env_arm_py39/lib/python3.9/site-packages (from wandb>=0.10.32->simpletransformers) (1.4.4)\n",
      "Requirement already satisfied: Click!=8.0.0,>=7.1 in /Users/rams/miniforge3/envs/env_arm_py39/lib/python3.9/site-packages (from wandb>=0.10.32->simpletransformers) (8.1.3)\n",
      "Requirement already satisfied: setuptools in /Users/rams/miniforge3/envs/env_arm_py39/lib/python3.9/site-packages (from wandb>=0.10.32->simpletransformers) (65.3.0)\n",
      "Requirement already satisfied: docker-pycreds>=0.4.0 in /Users/rams/miniforge3/envs/env_arm_py39/lib/python3.9/site-packages (from wandb>=0.10.32->simpletransformers) (0.4.0)\n",
      "Requirement already satisfied: typing-extensions in /Users/rams/miniforge3/envs/env_arm_py39/lib/python3.9/site-packages (from wandb>=0.10.32->simpletransformers) (4.8.0)\n",
      "Requirement already satisfied: urllib3<1.27,>=1.21.1 in /Users/rams/miniforge3/envs/env_arm_py39/lib/python3.9/site-packages (from requests->simpletransformers) (1.26.12)\n",
      "Requirement already satisfied: idna<4,>=2.5 in /Users/rams/miniforge3/envs/env_arm_py39/lib/python3.9/site-packages (from requests->simpletransformers) (3.4)\n",
      "Requirement already satisfied: certifi>=2017.4.17 in /Users/rams/miniforge3/envs/env_arm_py39/lib/python3.9/site-packages (from requests->simpletransformers) (2023.7.22)\n",
      "Requirement already satisfied: charset-normalizer<3,>=2 in /Users/rams/miniforge3/envs/env_arm_py39/lib/python3.9/site-packages (from requests->simpletransformers) (2.1.1)\n",
      "Requirement already satisfied: dill<0.3.8,>=0.3.0 in /Users/rams/miniforge3/envs/env_arm_py39/lib/python3.9/site-packages (from datasets->simpletransformers) (0.3.7)\n",
      "Requirement already satisfied: pyarrow>=8.0.0 in /Users/rams/miniforge3/envs/env_arm_py39/lib/python3.9/site-packages (from datasets->simpletransformers) (13.0.0)\n",
      "Requirement already satisfied: fsspec[http]<2023.9.0,>=2023.1.0 in /Users/rams/miniforge3/envs/env_arm_py39/lib/python3.9/site-packages (from datasets->simpletransformers) (2023.6.0)\n",
      "Requirement already satisfied: multiprocess in /Users/rams/miniforge3/envs/env_arm_py39/lib/python3.9/site-packages (from datasets->simpletransformers) (0.70.15)\n",
      "Requirement already satisfied: aiohttp in /Users/rams/miniforge3/envs/env_arm_py39/lib/python3.9/site-packages (from datasets->simpletransformers) (3.8.3)\n",
      "Requirement already satisfied: xxhash in /Users/rams/miniforge3/envs/env_arm_py39/lib/python3.9/site-packages (from datasets->simpletransformers) (3.4.1)\n",
      "Requirement already satisfied: python-dateutil>=2.8.1 in /Users/rams/miniforge3/envs/env_arm_py39/lib/python3.9/site-packages (from pandas->simpletransformers) (2.8.2)\n",
      "Requirement already satisfied: pytz>=2020.1 in /Users/rams/miniforge3/envs/env_arm_py39/lib/python3.9/site-packages (from pandas->simpletransformers) (2022.1)\n",
      "Requirement already satisfied: joblib>=1.0.0 in /Users/rams/miniforge3/envs/env_arm_py39/lib/python3.9/site-packages (from scikit-learn->simpletransformers) (1.2.0)\n",
      "Requirement already satisfied: threadpoolctl>=2.0.0 in /Users/rams/miniforge3/envs/env_arm_py39/lib/python3.9/site-packages (from scikit-learn->simpletransformers) (3.1.0)\n",
      "Requirement already satisfied: tornado<7,>=6.0.3 in /Users/rams/miniforge3/envs/env_arm_py39/lib/python3.9/site-packages (from streamlit->simpletransformers) (6.2)\n",
      "Requirement already satisfied: cachetools<6,>=4.0 in /Users/rams/miniforge3/envs/env_arm_py39/lib/python3.9/site-packages (from streamlit->simpletransformers) (4.2.4)\n",
      "Requirement already satisfied: blinker<2,>=1.0.0 in /Users/rams/miniforge3/envs/env_arm_py39/lib/python3.9/site-packages (from streamlit->simpletransformers) (1.6.2)\n",
      "Requirement already satisfied: toml<2,>=0.10.1 in /Users/rams/miniforge3/envs/env_arm_py39/lib/python3.9/site-packages (from streamlit->simpletransformers) (0.10.2)\n",
      "Requirement already satisfied: pydeck<1,>=0.8.0b4 in /Users/rams/miniforge3/envs/env_arm_py39/lib/python3.9/site-packages (from streamlit->simpletransformers) (0.8.1b0)\n",
      "Requirement already satisfied: tenacity<9,>=8.1.0 in /Users/rams/miniforge3/envs/env_arm_py39/lib/python3.9/site-packages (from streamlit->simpletransformers) (8.2.3)\n",
      "Requirement already satisfied: pillow<11,>=7.1.0 in /Users/rams/miniforge3/envs/env_arm_py39/lib/python3.9/site-packages (from streamlit->simpletransformers) (9.2.0)\n",
      "Requirement already satisfied: tzlocal<6,>=1.1 in /Users/rams/miniforge3/envs/env_arm_py39/lib/python3.9/site-packages (from streamlit->simpletransformers) (5.2)\n",
      "Requirement already satisfied: validators<1,>=0.2 in /Users/rams/miniforge3/envs/env_arm_py39/lib/python3.9/site-packages (from streamlit->simpletransformers) (0.22.0)\n",
      "Requirement already satisfied: importlib-metadata<7,>=1.4 in /Users/rams/miniforge3/envs/env_arm_py39/lib/python3.9/site-packages (from streamlit->simpletransformers) (4.12.0)\n",
      "Requirement already satisfied: altair<6,>=4.0 in /Users/rams/miniforge3/envs/env_arm_py39/lib/python3.9/site-packages (from streamlit->simpletransformers) (5.1.2)\n",
      "Requirement already satisfied: rich<14,>=10.14.0 in /Users/rams/miniforge3/envs/env_arm_py39/lib/python3.9/site-packages (from streamlit->simpletransformers) (13.6.0)\n",
      "Requirement already satisfied: grpcio>=1.48.2 in /Users/rams/miniforge3/envs/env_arm_py39/lib/python3.9/site-packages (from tensorboard->simpletransformers) (1.59.0)\n",
      "Requirement already satisfied: markdown>=2.6.8 in /Users/rams/miniforge3/envs/env_arm_py39/lib/python3.9/site-packages (from tensorboard->simpletransformers) (3.4.1)\n",
      "Requirement already satisfied: google-auth-oauthlib<2,>=0.5 in /Users/rams/miniforge3/envs/env_arm_py39/lib/python3.9/site-packages (from tensorboard->simpletransformers) (1.1.0)\n",
      "Requirement already satisfied: six>1.9 in /Users/rams/miniforge3/envs/env_arm_py39/lib/python3.9/site-packages (from tensorboard->simpletransformers) (1.16.0)\n",
      "Requirement already satisfied: tensorboard-data-server<0.8.0,>=0.7.0 in /Users/rams/miniforge3/envs/env_arm_py39/lib/python3.9/site-packages (from tensorboard->simpletransformers) (0.7.1)\n",
      "Requirement already satisfied: google-auth<3,>=1.6.3 in /Users/rams/miniforge3/envs/env_arm_py39/lib/python3.9/site-packages (from tensorboard->simpletransformers) (2.23.3)\n",
      "Requirement already satisfied: absl-py>=0.4 in /Users/rams/miniforge3/envs/env_arm_py39/lib/python3.9/site-packages (from tensorboard->simpletransformers) (1.2.0)\n",
      "Requirement already satisfied: werkzeug>=1.0.1 in /Users/rams/miniforge3/envs/env_arm_py39/lib/python3.9/site-packages (from tensorboard->simpletransformers) (2.3.6)\n",
      "Requirement already satisfied: jsonschema>=3.0 in /Users/rams/miniforge3/envs/env_arm_py39/lib/python3.9/site-packages (from altair<6,>=4.0->streamlit->simpletransformers) (4.17.3)\n",
      "Requirement already satisfied: jinja2 in /Users/rams/miniforge3/envs/env_arm_py39/lib/python3.9/site-packages (from altair<6,>=4.0->streamlit->simpletransformers) (3.1.2)\n",
      "Requirement already satisfied: toolz in /Users/rams/miniforge3/envs/env_arm_py39/lib/python3.9/site-packages (from altair<6,>=4.0->streamlit->simpletransformers) (0.12.0)\n",
      "Requirement already satisfied: attrs>=17.3.0 in /Users/rams/miniforge3/envs/env_arm_py39/lib/python3.9/site-packages (from aiohttp->datasets->simpletransformers) (22.1.0)\n",
      "Requirement already satisfied: frozenlist>=1.1.1 in /Users/rams/miniforge3/envs/env_arm_py39/lib/python3.9/site-packages (from aiohttp->datasets->simpletransformers) (1.3.1)\n",
      "Requirement already satisfied: async-timeout<5.0,>=4.0.0a3 in /Users/rams/miniforge3/envs/env_arm_py39/lib/python3.9/site-packages (from aiohttp->datasets->simpletransformers) (4.0.2)\n",
      "Requirement already satisfied: aiosignal>=1.1.2 in /Users/rams/miniforge3/envs/env_arm_py39/lib/python3.9/site-packages (from aiohttp->datasets->simpletransformers) (1.2.0)\n",
      "Requirement already satisfied: yarl<2.0,>=1.0 in /Users/rams/miniforge3/envs/env_arm_py39/lib/python3.9/site-packages (from aiohttp->datasets->simpletransformers) (1.7.2)\n",
      "Requirement already satisfied: multidict<7.0,>=4.5 in /Users/rams/miniforge3/envs/env_arm_py39/lib/python3.9/site-packages (from aiohttp->datasets->simpletransformers) (6.0.2)\n",
      "Requirement already satisfied: gitdb<5,>=4.0.1 in /Users/rams/miniforge3/envs/env_arm_py39/lib/python3.9/site-packages (from GitPython!=3.1.29,>=1.0.0->wandb>=0.10.32->simpletransformers) (4.0.10)\n",
      "Requirement already satisfied: pyasn1-modules>=0.2.1 in /Users/rams/miniforge3/envs/env_arm_py39/lib/python3.9/site-packages (from google-auth<3,>=1.6.3->tensorboard->simpletransformers) (0.2.8)\n",
      "Requirement already satisfied: rsa<5,>=3.1.4 in /Users/rams/miniforge3/envs/env_arm_py39/lib/python3.9/site-packages (from google-auth<3,>=1.6.3->tensorboard->simpletransformers) (4.9)\n",
      "Requirement already satisfied: requests-oauthlib>=0.7.0 in /Users/rams/miniforge3/envs/env_arm_py39/lib/python3.9/site-packages (from google-auth-oauthlib<2,>=0.5->tensorboard->simpletransformers) (1.3.1)\n",
      "Requirement already satisfied: zipp>=0.5 in /Users/rams/miniforge3/envs/env_arm_py39/lib/python3.9/site-packages (from importlib-metadata<7,>=1.4->streamlit->simpletransformers) (3.8.1)\n",
      "Requirement already satisfied: pyparsing!=3.0.5,>=2.0.2 in /Users/rams/miniforge3/envs/env_arm_py39/lib/python3.9/site-packages (from packaging>=20.0->transformers>=4.31.0->simpletransformers) (3.0.9)\n",
      "Requirement already satisfied: pygments<3.0.0,>=2.13.0 in /Users/rams/miniforge3/envs/env_arm_py39/lib/python3.9/site-packages (from rich<14,>=10.14.0->streamlit->simpletransformers) (2.13.0)\n",
      "Requirement already satisfied: markdown-it-py>=2.2.0 in /Users/rams/miniforge3/envs/env_arm_py39/lib/python3.9/site-packages (from rich<14,>=10.14.0->streamlit->simpletransformers) (3.0.0)\n",
      "Requirement already satisfied: MarkupSafe>=2.1.1 in /Users/rams/miniforge3/envs/env_arm_py39/lib/python3.9/site-packages (from werkzeug>=1.0.1->tensorboard->simpletransformers) (2.1.1)\n",
      "Requirement already satisfied: smmap<6,>=3.0.1 in /Users/rams/miniforge3/envs/env_arm_py39/lib/python3.9/site-packages (from gitdb<5,>=4.0.1->GitPython!=3.1.29,>=1.0.0->wandb>=0.10.32->simpletransformers) (3.0.5)\n",
      "Requirement already satisfied: pyrsistent!=0.17.0,!=0.17.1,!=0.17.2,>=0.14.0 in /Users/rams/miniforge3/envs/env_arm_py39/lib/python3.9/site-packages (from jsonschema>=3.0->altair<6,>=4.0->streamlit->simpletransformers) (0.18.1)\n",
      "Requirement already satisfied: mdurl~=0.1 in /Users/rams/miniforge3/envs/env_arm_py39/lib/python3.9/site-packages (from markdown-it-py>=2.2.0->rich<14,>=10.14.0->streamlit->simpletransformers) (0.1.2)\n",
      "Requirement already satisfied: pyasn1<0.5.0,>=0.4.6 in /Users/rams/miniforge3/envs/env_arm_py39/lib/python3.9/site-packages (from pyasn1-modules>=0.2.1->google-auth<3,>=1.6.3->tensorboard->simpletransformers) (0.4.8)\n",
      "Requirement already satisfied: oauthlib>=3.0.0 in /Users/rams/miniforge3/envs/env_arm_py39/lib/python3.9/site-packages (from requests-oauthlib>=0.7.0->google-auth-oauthlib<2,>=0.5->tensorboard->simpletransformers) (3.2.1)\n"
     ]
    }
   ],
   "source": [
    "!pip install simpletransformers"
   ]
  },
  {
   "cell_type": "code",
   "execution_count": 4,
   "id": "87790974-dcbd-4445-b260-dd2e7d50eac7",
   "metadata": {},
   "outputs": [],
   "source": [
    "from simpletransformers.ner import NERModel"
   ]
  },
  {
   "cell_type": "code",
   "execution_count": 5,
   "id": "52e3b307-8425-45f8-8ede-2b2189bef797",
   "metadata": {},
   "outputs": [
    {
     "name": "stdout",
     "output_type": "stream",
     "text": [
      "reading train file: processed_data/bert_train.pkl\n",
      "reading eval file: processed_data/bert_dev.pkl\n",
      "reading test file: processed_data/bert_test.pkl\n",
      "130210 16164\n",
      "16497\n",
      "/error_correction_ce_syntax/ner_1e5_bs32_bert_large\n"
     ]
    },
    {
     "name": "stderr",
     "output_type": "stream",
     "text": [
      "Some weights of BertForTokenClassification were not initialized from the model checkpoint at espejelomar/beto-base-cased and are newly initialized: ['classifier.weight', 'classifier.bias']\n",
      "You should probably TRAIN this model on a down-stream task to be able to use it for predictions and inference.\n"
     ]
    },
    {
     "data": {
      "application/vnd.jupyter.widget-view+json": {
       "model_id": "248316c8ca2e4ea59be1b2d869f9255e",
       "version_major": 2,
       "version_minor": 0
      },
      "text/plain": [
       "  0%|          | 0/4152 [00:00<?, ?it/s]"
      ]
     },
     "metadata": {},
     "output_type": "display_data"
    },
    {
     "name": "stderr",
     "output_type": "stream",
     "text": [
      "/Users/rams/miniforge3/envs/env_arm_py39/lib/python3.9/site-packages/torch/utils/data/dataloader.py:563: UserWarning: This DataLoader will create 20 worker processes in total. Our suggested max number of worker in current system is 8 (`cpuset` is not taken into account), which is smaller than what this DataLoader is going to create. Please be aware that excessive worker creation might get DataLoader running slow or even freeze, lower the worker number to avoid potential slowness/freeze if necessary.\n",
      "  warnings.warn(_create_warning_msg(\n"
     ]
    },
    {
     "data": {
      "application/vnd.jupyter.widget-view+json": {
       "model_id": "7f81dfe266d44115bd1c854594d5f406",
       "version_major": 2,
       "version_minor": 0
      },
      "text/plain": [
       "Epoch:   0%|          | 0/10 [00:00<?, ?it/s]"
      ]
     },
     "metadata": {},
     "output_type": "display_data"
    },
    {
     "name": "stderr",
     "output_type": "stream",
     "text": [
      "\u001b[34m\u001b[1mwandb\u001b[0m: Currently logged in as: \u001b[33mram-senth\u001b[0m (\u001b[33mlangbot\u001b[0m). Use \u001b[1m`wandb login --relogin`\u001b[0m to force relogin\n"
     ]
    },
    {
     "data": {
      "text/html": [
       "Tracking run with wandb version 0.15.12"
      ],
      "text/plain": [
       "<IPython.core.display.HTML object>"
      ]
     },
     "metadata": {},
     "output_type": "display_data"
    },
    {
     "data": {
      "text/html": [
       "Run data is saved locally in <code>/Users/rams/personal/MIDS/w210/langbot/model_gec/wandb/run-20231030_110757-053hyfpr</code>"
      ],
      "text/plain": [
       "<IPython.core.display.HTML object>"
      ]
     },
     "metadata": {},
     "output_type": "display_data"
    },
    {
     "data": {
      "text/html": [
       "Syncing run <strong><a href='https://wandb.ai/langbot/gec_ner/runs/053hyfpr' target=\"_blank\">/error_correction_ce_syntax/ner_1e5_bs32_bert_large</a></strong> to <a href='https://wandb.ai/langbot/gec_ner' target=\"_blank\">Weights & Biases</a> (<a href='https://wandb.me/run' target=\"_blank\">docs</a>)<br/>"
      ],
      "text/plain": [
       "<IPython.core.display.HTML object>"
      ]
     },
     "metadata": {},
     "output_type": "display_data"
    },
    {
     "data": {
      "text/html": [
       " View project at <a href='https://wandb.ai/langbot/gec_ner' target=\"_blank\">https://wandb.ai/langbot/gec_ner</a>"
      ],
      "text/plain": [
       "<IPython.core.display.HTML object>"
      ]
     },
     "metadata": {},
     "output_type": "display_data"
    },
    {
     "data": {
      "text/html": [
       " View run at <a href='https://wandb.ai/langbot/gec_ner/runs/053hyfpr' target=\"_blank\">https://wandb.ai/langbot/gec_ner/runs/053hyfpr</a>"
      ],
      "text/plain": [
       "<IPython.core.display.HTML object>"
      ]
     },
     "metadata": {},
     "output_type": "display_data"
    },
    {
     "name": "stderr",
     "output_type": "stream",
     "text": [
      "/Users/rams/miniforge3/envs/env_arm_py39/lib/python3.9/site-packages/torch/utils/data/dataloader.py:563: UserWarning: This DataLoader will create 20 worker processes in total. Our suggested max number of worker in current system is 8 (`cpuset` is not taken into account), which is smaller than what this DataLoader is going to create. Please be aware that excessive worker creation might get DataLoader running slow or even freeze, lower the worker number to avoid potential slowness/freeze if necessary.\n",
      "  warnings.warn(_create_warning_msg(\n"
     ]
    },
    {
     "data": {
      "application/vnd.jupyter.widget-view+json": {
       "model_id": "f61a9318c9c341cfa19af5958e505801",
       "version_major": 2,
       "version_minor": 0
      },
      "text/plain": [
       "Running Epoch 0 of 10:   0%|          | 0/519 [00:00<?, ?it/s]"
      ]
     },
     "metadata": {},
     "output_type": "display_data"
    },
    {
     "name": "stderr",
     "output_type": "stream",
     "text": [
      "Exception ignored in: <function _MultiProcessingDataLoaderIter.__del__ at 0x1629db0d0>\n",
      "Traceback (most recent call last):\n",
      "  File \"/Users/rams/miniforge3/envs/env_arm_py39/lib/python3.9/site-packages/torch/utils/data/dataloader.py\", line 1510, in __del__\n",
      "    self._shutdown_workers()\n",
      "  File \"/Users/rams/miniforge3/envs/env_arm_py39/lib/python3.9/site-packages/torch/utils/data/dataloader.py\", line 1474, in _shutdown_workers\n",
      "    w.join(timeout=_utils.MP_STATUS_CHECK_INTERVAL)\n",
      "  File \"/Users/rams/miniforge3/envs/env_arm_py39/lib/python3.9/multiprocessing/process.py\", line 149, in join\n",
      "    res = self._popen.wait(timeout)\n",
      "  File \"/Users/rams/miniforge3/envs/env_arm_py39/lib/python3.9/multiprocessing/popen_fork.py\", line 40, in wait\n",
      "    if not wait([self.sentinel], timeout):\n",
      "  File \"/Users/rams/miniforge3/envs/env_arm_py39/lib/python3.9/multiprocessing/connection.py\", line 936, in wait\n",
      "    ready = selector.select(timeout)\n",
      "  File \"/Users/rams/miniforge3/envs/env_arm_py39/lib/python3.9/selectors.py\", line 416, in select\n",
      "    fd_event_list = self._selector.poll(timeout)\n",
      "KeyboardInterrupt: \n",
      "\n",
      "KeyboardInterrupt\n",
      "\n",
      "wandb: Network error (ReadTimeout), entering retry loop.\n"
     ]
    }
   ],
   "source": [
    "output_base_dir = os.path.join(os.path.abspath('.'), 'outputs')\n",
    "\n",
    "args = Training_config(main_args.ECC_TRAIN_CONFIG)\n",
    "labels = args.BIO_labels\n",
    "\n",
    "if args.model_type != 'interactive':\n",
    "    labels = labels[:-1]\n",
    "\n",
    "train_file, eval_file, test_file = args.train_dev_data\n",
    "\n",
    "print(\"reading train file:\", train_file)\n",
    "with open(train_file, 'rb') as f:\n",
    "    train_data = pickle.load(f)\n",
    "print(\"reading eval file:\", eval_file)\n",
    "with open(eval_file, 'rb') as f:\n",
    "    eval_data = pickle.load(f)\n",
    "print(\"reading test file:\", test_file)\n",
    "with open(test_file, 'rb') as f:\n",
    "    test_data = pickle.load(f)\n",
    "\n",
    "if args.debug:\n",
    "    train_data = train_data[:[i for i, d in enumerate(train_data) if d[0]<6][-1]]\n",
    "    eval_data = eval_data[:[i for i, d in enumerate(eval_data) if d[0]<6][-1]]\n",
    "    test_data = test_data[:[i for i, d in enumerate(test_data) if d[0]<6][-1]]\n",
    "    wandb_project = False\n",
    "else:\n",
    "    wandb_project = \"gec_ner\"\n",
    "\n",
    "columns=[\"sentence_id\", \"words\", \"labels\", \"cls_labels\", \"correction_index\", \"parsing_embedding\"]\n",
    "\n",
    "train_df = pd.DataFrame(train_data, columns=columns)\n",
    "eval_df = pd.DataFrame(eval_data, columns=columns)\n",
    "if test_file:\n",
    "    test_df = pd.DataFrame(test_data, columns=columns)\n",
    "if not args.parsing_embedding:\n",
    "    train_df = train_df.drop(['parsing_embedding'], axis=1)\n",
    "    eval_df = eval_df.drop(['parsing_embedding'], axis=1)\n",
    "    test_df = test_df.drop(['parsing_embedding'], axis=1)\n",
    "\n",
    "print(len(train_df), len(eval_df))\n",
    "print(len(test_df))\n",
    "\n",
    "if args.only_inference is not None:\n",
    "    args.model_name = output_base_dir + args.exp_name\n",
    "print(args.exp_name)\n",
    "\n",
    "if args.only_inference is not None:\n",
    "    if args.output_dir is None:\n",
    "        output_dir = output_base_dir + args.exp_name\n",
    "    else:\n",
    "        output_dir = args.output_dir\n",
    "        args.exp_name = output_dir\n",
    "else:\n",
    "    output_dir = output_base_dir + args.exp_name + '/eval'\n",
    "\n",
    "model_args = {\"overwrite_output_dir\": True,\n",
    "          \"num_train_epochs\": args.epochs,\n",
    "          \"train_batch_size\": args.train_batch_size,\n",
    "          \"eval_batch_size\": args.eval_batch_size,\n",
    "          \"output_dir\": output_dir,\n",
    "          \"reprocess_input_data\": True,\n",
    "          \"special_tokens_list\": [\"[NONE]\", \"[MOD]\"],\n",
    "          \"wandb_kwargs\": {\n",
    "              \"mode\": 'online', #'offline',\n",
    "              \"name\": args.exp_name,\n",
    "          },\n",
    "          \"wandb_project\": wandb_project,\n",
    "          \"evaluate_during_training\": args.evaluate_during_training,\n",
    "          \"evaluate_each_epoch\": args.evaluate_each_epoch,\n",
    "          \"learning_rate\": args.lr,\n",
    "          \"multi_loss\": args.multi_loss,\n",
    "          \"wo_token_labels\": args.wo_token_labels,\n",
    "          \"cls_num_labels\": 15, # label nums for [CLS] token classification\n",
    "          \"use_multiprocessing_for_evaluation\": False,\n",
    "          \"use_multiprocessing\": args.use_multiprocessing,\n",
    "          \"loss_weight\": args.loss_weight,\n",
    "          \"max_correction_embeddings\": args.max_correction_embeddings,\n",
    "          \"max_seq_length\": args.max_seq_length,\n",
    "          \"n_gpu\": args.n_gpu,\n",
    "          \"dataloader_num_workers\": 20,\n",
    "          \"save_eval_checkpoints\": False,\n",
    "          \"early_stopping_metric\": \"f1_score\",\n",
    "          \"best_model_dir\": output_dir,\n",
    "          \"parsing_embedding\": args.parsing_embedding,\n",
    "          \"parsing_embedding_for_embedding\": args.parsing_embedding_for_embedding,\n",
    "          \"logging_steps\": 0,\n",
    "          \"manual_seed\": 42\n",
    "          }\n",
    "\n",
    "model = NERModel(\n",
    "    model_type=args.model,\n",
    "    model_name=args.model_name,\n",
    "    labels=labels,\n",
    "    args=model_args,\n",
    "    use_cuda=args.use_cuda\n",
    ")\n",
    "\n",
    "# Create a NERModel\n",
    "if args.only_inference is None:\n",
    "    # Train the model\n",
    "    model.train_model(train_df, eval_data=eval_df, test_data=test_df)\n",
    "\n",
    "if args.only_inference is None or 'dev' in args.only_inference:\n",
    "    result, model_outputs, predictions, out_label_list = model.eval_model(eval_df, wandb_log=False)\n",
    "if args.only_inference is None or 'test' in args.only_inference:\n",
    "    result, model_outputs, predictions, out_label_list = model.eval_model(test_df, wandb_log=False)"
   ]
  },
  {
   "cell_type": "code",
   "execution_count": null,
   "id": "f2a91b2d-858c-4490-a734-a513e1a79d1d",
   "metadata": {},
   "outputs": [],
   "source": []
  }
 ],
 "metadata": {
  "kernelspec": {
   "display_name": "Python 3 (ipykernel)",
   "language": "python",
   "name": "python3"
  },
  "language_info": {
   "codemirror_mode": {
    "name": "ipython",
    "version": 3
   },
   "file_extension": ".py",
   "mimetype": "text/x-python",
   "name": "python",
   "nbconvert_exporter": "python",
   "pygments_lexer": "ipython3",
   "version": "3.9.13"
  }
 },
 "nbformat": 4,
 "nbformat_minor": 5
}
